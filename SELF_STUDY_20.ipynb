{
  "nbformat": 4,
  "nbformat_minor": 0,
  "metadata": {
    "colab": {
      "name": "SELF STUDY 20.ipynb",
      "provenance": [],
      "authorship_tag": "ABX9TyPqL3t3ahnMFH33aUkU6b7e",
      "include_colab_link": true
    },
    "kernelspec": {
      "name": "python3",
      "display_name": "Python 3"
    },
    "language_info": {
      "name": "python"
    }
  },
  "cells": [
    {
      "cell_type": "markdown",
      "metadata": {
        "id": "view-in-github",
        "colab_type": "text"
      },
      "source": [
        "<a href=\"https://colab.research.google.com/github/Yusuf5001/Python-/blob/main/SELF_STUDY_20.ipynb\" target=\"_parent\"><img src=\"https://colab.research.google.com/assets/colab-badge.svg\" alt=\"Open In Colab\"/></a>"
      ]
    },
    {
      "cell_type": "code",
      "execution_count": 1,
      "metadata": {
        "colab": {
          "base_uri": "https://localhost:8080/"
        },
        "id": "IsJsilH2PAhp",
        "outputId": "e0164b36-5cc2-499e-aa3b-492b1ed44973"
      },
      "outputs": [
        {
          "output_type": "stream",
          "name": "stdout",
          "text": [
            "2, 1, 0, -1, -2, -3, -4, "
          ]
        }
      ],
      "source": [
        "for num in range(2,-5,-1):\n",
        "    print(num, end=\", \")"
      ]
    },
    {
      "cell_type": "code",
      "source": [
        "a, b = 12, 5\n",
        "if a + b:\n",
        "    print('True')\n",
        "else:\n",
        "  print('False')"
      ],
      "metadata": {
        "colab": {
          "base_uri": "https://localhost:8080/"
        },
        "id": "k4tLFtcQPMzo",
        "outputId": "178c773d-bb55-40a3-f70f-358564d143ff"
      },
      "execution_count": 2,
      "outputs": [
        {
          "output_type": "stream",
          "name": "stdout",
          "text": [
            "True\n"
          ]
        }
      ]
    },
    {
      "cell_type": "code",
      "source": [
        "x = 0\n",
        "for i in range(10):\n",
        "  for j in range(-1, -10, -1):\n",
        "    x += 1\n",
        "    print(x)"
      ],
      "metadata": {
        "colab": {
          "base_uri": "https://localhost:8080/"
        },
        "id": "tLItiUpqPhCr",
        "outputId": "fe5ab294-3317-494c-9d6f-a9e1622ab8e5"
      },
      "execution_count": 3,
      "outputs": [
        {
          "output_type": "stream",
          "name": "stdout",
          "text": [
            "1\n",
            "2\n",
            "3\n",
            "4\n",
            "5\n",
            "6\n",
            "7\n",
            "8\n",
            "9\n",
            "10\n",
            "11\n",
            "12\n",
            "13\n",
            "14\n",
            "15\n",
            "16\n",
            "17\n",
            "18\n",
            "19\n",
            "20\n",
            "21\n",
            "22\n",
            "23\n",
            "24\n",
            "25\n",
            "26\n",
            "27\n",
            "28\n",
            "29\n",
            "30\n",
            "31\n",
            "32\n",
            "33\n",
            "34\n",
            "35\n",
            "36\n",
            "37\n",
            "38\n",
            "39\n",
            "40\n",
            "41\n",
            "42\n",
            "43\n",
            "44\n",
            "45\n",
            "46\n",
            "47\n",
            "48\n",
            "49\n",
            "50\n",
            "51\n",
            "52\n",
            "53\n",
            "54\n",
            "55\n",
            "56\n",
            "57\n",
            "58\n",
            "59\n",
            "60\n",
            "61\n",
            "62\n",
            "63\n",
            "64\n",
            "65\n",
            "66\n",
            "67\n",
            "68\n",
            "69\n",
            "70\n",
            "71\n",
            "72\n",
            "73\n",
            "74\n",
            "75\n",
            "76\n",
            "77\n",
            "78\n",
            "79\n",
            "80\n",
            "81\n",
            "82\n",
            "83\n",
            "84\n",
            "85\n",
            "86\n",
            "87\n",
            "88\n",
            "89\n",
            "90\n"
          ]
        }
      ]
    },
    {
      "cell_type": "code",
      "source": [
        "sampleList = [10, 20, 30, 40, 50]\n",
        "print(sampleList[-2])\n",
        "print(sampleList[-4:-1])"
      ],
      "metadata": {
        "colab": {
          "base_uri": "https://localhost:8080/"
        },
        "id": "sGoVvJMEXFQ_",
        "outputId": "30c98dc1-e8f3-45ac-ed4d-22e23edc985e"
      },
      "execution_count": 4,
      "outputs": [
        {
          "output_type": "stream",
          "name": "stdout",
          "text": [
            "40\n",
            "[20, 30, 40]\n"
          ]
        }
      ]
    },
    {
      "cell_type": "code",
      "source": [
        "l = [None] * 10\n",
        "print(len(l))"
      ],
      "metadata": {
        "colab": {
          "base_uri": "https://localhost:8080/"
        },
        "id": "J3UgytayXXnc",
        "outputId": "8f1178de-33da-4210-a7a7-608f0d88c603"
      },
      "execution_count": 5,
      "outputs": [
        {
          "output_type": "stream",
          "name": "stdout",
          "text": [
            "10\n"
          ]
        }
      ]
    },
    {
      "cell_type": "code",
      "source": [
        "aList = [\"PYnative\", [4, 8, 12, 16]]\n",
        "print(aList[0][1])    \n",
        "print(aList[1][3])"
      ],
      "metadata": {
        "colab": {
          "base_uri": "https://localhost:8080/"
        },
        "id": "sbNVrqpYXzDZ",
        "outputId": "c810a51e-2f55-4713-cd1a-b1e1bc747a3a"
      },
      "execution_count": 6,
      "outputs": [
        {
          "output_type": "stream",
          "name": "stdout",
          "text": [
            "Y\n",
            "16\n"
          ]
        }
      ]
    },
    {
      "cell_type": "code",
      "source": [
        "languages = ['Python', 'Java', 'C++', 'French', 'C']\n",
        "languages.pop()"
      ],
      "metadata": {
        "colab": {
          "base_uri": "https://localhost:8080/",
          "height": 35
        },
        "id": "5qvxHkzBYCp1",
        "outputId": "311530c4-8fc9-4af4-9617-f763353674ec"
      },
      "execution_count": 7,
      "outputs": [
        {
          "output_type": "execute_result",
          "data": {
            "application/vnd.google.colaboratory.intrinsic+json": {
              "type": "string"
            },
            "text/plain": [
              "'C'"
            ]
          },
          "metadata": {},
          "execution_count": 7
        }
      ]
    },
    {
      "cell_type": "code",
      "source": [
        "my_list = [\"Hello\", \"Python\"]\n",
        "print(\"-\".join(my_list))"
      ],
      "metadata": {
        "colab": {
          "base_uri": "https://localhost:8080/"
        },
        "id": "cATQDUH4Ynsk",
        "outputId": "4a0a7b43-7fcd-472e-f402-21877779db66"
      },
      "execution_count": 8,
      "outputs": [
        {
          "output_type": "stream",
          "name": "stdout",
          "text": [
            "Hello-Python\n"
          ]
        }
      ]
    },
    {
      "cell_type": "code",
      "source": [
        "list1 = ['xyz', 'zara', 'PYnative']\n",
        "print (max(list1))"
      ],
      "metadata": {
        "colab": {
          "base_uri": "https://localhost:8080/"
        },
        "id": "ssDBHwwEYq0R",
        "outputId": "8b632d44-239f-4254-b0f0-b23859cd424c"
      },
      "execution_count": 9,
      "outputs": [
        {
          "output_type": "stream",
          "name": "stdout",
          "text": [
            "zara\n"
          ]
        }
      ]
    },
    {
      "cell_type": "markdown",
      "source": [
        "Write a Python program to sum of three given integers. However, if two values are equal sum will be zero."
      ],
      "metadata": {
        "id": "7Sm_q0pwYzu8"
      }
    },
    {
      "cell_type": "code",
      "source": [
        "a = int(input(\"Pls enter 1st number: \"))\n",
        "b = int(input(\"Pls enter 2nd number: \"))\n",
        "c = int(input(\"Pls enter 3rd number: \"))\n",
        "\n",
        "if a==b or b==c or a==c:\n",
        "  print(0)\n",
        "else:\n",
        "  print(a+b+c)"
      ],
      "metadata": {
        "colab": {
          "base_uri": "https://localhost:8080/"
        },
        "id": "cBKTEXNcYyoE",
        "outputId": "ca164687-7ff0-421c-c212-6deabedbe85d"
      },
      "execution_count": 15,
      "outputs": [
        {
          "output_type": "stream",
          "name": "stdout",
          "text": [
            "Pls enter 1st number: 2\n",
            "Pls enter 2nd number: 4\n",
            "Pls enter 3rd number: 1\n",
            "7\n"
          ]
        }
      ]
    },
    {
      "cell_type": "markdown",
      "source": [
        "Write a Python program to get a string made of the first 2 and the last 2 chars from a given a string. If the string length is less than 2, return instead of the empty string.\n",
        "\n",
        "Sample String : 'w3resource'\n",
        "\n",
        "Expected Result : 'w3ce'\n",
        "\n",
        "Sample String : 'w3'\n",
        "\n",
        "Expected Result : 'w3w3'\n",
        "\n",
        "Sample String : ' w'\n",
        "\n",
        "Expected Result : Empty String"
      ],
      "metadata": {
        "id": "4J7K5Wa-Zonf"
      }
    },
    {
      "cell_type": "code",
      "source": [
        "inn = input(\"Pls enter your word: \")\n",
        "\n",
        "if len(inn)<=2:\n",
        "  print(\" \")\n",
        "else:\n",
        "  print(inn[:2]+inn[-2:])"
      ],
      "metadata": {
        "colab": {
          "base_uri": "https://localhost:8080/"
        },
        "id": "6B2XbVyhZn9F",
        "outputId": "6eb4a029-27e9-4b2c-e6e1-a89b20222b79"
      },
      "execution_count": 21,
      "outputs": [
        {
          "output_type": "stream",
          "name": "stdout",
          "text": [
            "Pls enter your word: wq\n",
            " \n"
          ]
        }
      ]
    },
    {
      "cell_type": "markdown",
      "source": [
        "Let's solve questions on creating different pyramid shapes today Program to print half pyramid a using numbers.(User enter the numbers of rows)\n",
        "\n",
        "![image.png](data:image/png;base64,iVBORw0KGgoAAAANSUhEUgAAA6IAAACOCAIAAACkHCIAAAALgUlEQVR4nO3dQWgU2boH8IoEOwvNjXJXnU35CAiBFPQmC2V0k1kl7cqsRkZ3CTjOIozOKDiLdzcZ40a4IxPug5trVuKQXXEH7K0uAmMgohCI79amAyPzpEmEdIvEt2iQXHkmNbG09bzfjyy6qr869S3/nJxzuqvZbEYAABCWfZ1uAAAAiifmAgAQIDEXAIAAibkAAARIzAUAIEDdOes2NjbW19ebzearV6/ea0MAAJBTV1dXT09Pb2/vwYMH3/wqz4Fiv//+e6vVOnDgQHd39759JoABAPgobG1tvXz58vnz56VS6c9//vP2r3bPrBsbG61W6/Dhw/v375dxAQD4eOzbt2///v2HDx9utVobGxv/9tWuD6+vrx84cOC99QYAAO/qwIED6+vr2+/sHnObzWZ3d94lvAAA8OF1d3e/sRZ395j76tUraxUAAPiY7du3742TEuRXAAACJOYCABAgMRcAgACJuQAABEjMBQAgQGIuAAABEnMBAAiQmAsAQIDEXAAAAiTmAgAQIDEXAIAAFRlz0zRNhpI0TQscEwAA9qCYmNtqtf7yn3959j/Pjh0/VsiAAADwLoqJubVabaw6Vj1VLWQ0AAB4R92FjDI6OhpFUaPRKGQ0AAB4R7agAQAQIDEXAIAAibkAAARIzAUAIEBiLgAAASom5i4tLSVDyYnPTty/d//yd5eToWR2draQkQEAYA+KOVCsUqksP1wuZCgAAHh3Fi0AABAgMRcAgACJuQAABEjMBQAgQGIuAAABEnMBAAiQmAsAQIDEXAAAAiTmAgAQIDEXAIAAibkAAASoyJibpmkylKRpmqc4y7Lx0+PJUJL/EQAAyKm7kFFarda1H67FcXzs+LGc9QsLCzPXZ+I4zrLs4jcXy+VypVIppBkAAChmNrdWq41Vx6qnqjnrS6XS1NRUHMdRFMVxPPL5yOLiYiGdAABAVNRs7ujoaBRFjUajkNEAAOAddX4LWpZltbu14eHhTjcCAEA4OhxzW63W/K35JEkGBwc72wkAACHpZMxtb1yrr9UvfH2hVCp1sBMAAALTyZg7NzdXX6tPT0/39fV1sA0AAMJTzBa0PUjTtHa3NnN9RsYFAKBwXc1mc+eK1dXV/v7+nWuWlpbOfnl2+53zX52fmJh4W337rNyVlZXXd44ePdo+RjdHzwAA8KZ6vT4wMPD6spiYCwAAnfVGzO38gWIAAFA4MRcAgACJuQAABEjMBQAgQGIuAAABEnMBAAiQmAsAQIDEXAAAAiTmAgAQIDEXAIAAibkAAASoyJibpmkylKRpmqc4y7Lx0+PJUJLzke3146fHsyx7534BAAhWdyGjtFqtaz9ci+P42PFjOesXFhZmrs/EcZxl2cVvLpbL5UqlssMjcRzf+flO+3OapvO35i99e6lUKhXQPQAAwSlmNrdWq41Vx6qnqjnrS6XS1NRUHMdRFMVxPPL5yOLiYv7Xlcvl+lp9c3NzL70CAPD/QDGzuaOjo1EUNRqNQkbb1eLiYqVS6evr+zCvAwDgk9P5LWhZltXu1oaHh3etXFpaaq/Nffrb03Pnzn2A3gAA+ER1OOa2Wq35W/NJkgwODu5aXKlUlh8uLz9cHquOnfnijF1oAAC8TSdjbnvjWn2tfuHrC39oM9ng4GCSJI8ePXp/vQEA8EnrZMydm5urr9Wnp6f3tsq2XC4X3hIAAGEoZgvaHqRpWrtbm7k+s4eMW6vV6mv1I0eOvI/GAAAIQFez2dy5YnV1tb+/f+eapaWls1+e3X7n/FfnJyYm3lbfPit3ZWXl9Z2jR4+2j9F92yNpml7+7nL78/j4uENzAQDYrl6vDwwMvL4sJuYCAEBnvRFzO3+gGAAAFE7MBQAgQGIuAAABEnMBAAiQmAsAQIDEXAAAAiTmAgAQIDEXAIAAibkAAARIzAUAIEBiLgAAASoy5qZpmgwlaZrmKc6ybPz0eDKU5Hxke/346fEsy3J21Wg0JicnJycnG41GzkcAAPjUdRcySqvVuvbDtTiOjx0/lrN+YWFh5vpMHMdZll385mK5XK5UKjs8EsfxnZ/vtD+naTp/a/7St5dKpdKu77p9+3b0Kur9U2+exgAACEMxs7m1Wm2sOlY9Vc1ZXyqVpqam4jiOoiiO45HPRxYXF/O/rlwu19fqm5ubu1ZmWfbkyZOJyYn8gwMAEIBiZnNHR0ejKPpgqwIWFxcrlUpfX9/OZa1Wa/7W/MmTJw8dOvRhGgMA4CPR+S1oWZbV7taGh4d3rVxaWmqvzX3629Nz587tWv/48eMoikZGRgroEgCAT0qHY257wjVJksHBwV2LK5XK8sPl5YfLY9WxM1+c2XkXWqPRmJ2dHauO5Vm/CwBAYDoZc9sb1+pr9QtfX/hDYXRwcDBJkkePHu1Qc+/evUqlsvO2NgAAQlXM2ty9mZubq6/Vp6end11l+38ql8tv+6rVaj349cGdO3d+/OuPr2/+8s9fzn91fmLCdjQAgPB1LOamaVq7W5u5PrOHjFur1epr9SNHjrytoFQqXf3+6tXvr7Yvsyy7efPmlStX9panAQD45BSzaKG9OezEZyfu37t/+bvLyVAyOzu7Q32WZXN/n1tZWTlVPZXzFx/avz3R/nvw64MbN27IrAAAvE1Xs9ncuWJ1dbW/v//DdAMAAHtTr9cHBgZeX3b+QDEAACicmAsAQIDEXAAAAiTmAgAQIDEXAIAAibkAAARIzAUAIEBiLgAAARJzAQAIkJgLAECAxFwAAAJUZMxN0zQZStI0zVOcZdn46fFkKMn5yPb68dPjWZbl7KrRaExOTk5OTjYajfyvSIaSPI8AAPBx6i5klFarde2Ha3EcHzt+LGf9wsLCzPWZOI6zLLv4zcVyuVypVHZ4JI7jOz/faX9O03T+1vylby+VSqVd33X79u3oVdT7p948jR35jyN/+6+/9fX15SkGAOCjVcxsbq1WG6uOVU9Vc9aXSqWpqak4jqMoiuN45PORxcXF/K8rl8v1tfrm5uaulVmWPXnyZGJyIv/gAAAEoJjZ3NHR0SiKPti/+BcXFyuVyq5zrq1Wa/7W/MmTJw8dOvRhGgMA4CPR+S1oWZbV7taGh4d3rVxaWmqvmn3629Nz587tWv/48eMoikZGRvI386///teJz06037K0tJT/QQAAPiodjrntCdckSQYHB3ctrlQqyw+Xlx8uj1XHznxxZuddaI1GY3Z2dqw6lmf9blt7+W/7Ff+49Y+zX56VdAEAPlGdjLntjWv1tfqFry/kD6NRFA0ODiZJ8ujRox1q7t27V6lUdt7WtvMrxsfH19bW9vY4AACd1cmYOzc3V1+rT09P7+1kg3K5/LavWq3Wg18f/PjXH9vLD05VT/3yz19OfHZidnY25+Cbm5v1tfoeugIA4GNQzBa0PUjTtHa3NnN9Zg8Zt1ar1dfqR44ceVtBqVS6+v3Vq99fbV9mWXbz5s0rV67kf9ft27ejKDp+/Pgf7Q0AgI9BMbO57c1hJz47cf/e/cvfXU6Gkp3nTbMsm/v73MrKyqnqqZy/+ND+7Yn234NfH9y4caPw021fb3FLhpIoin766ScH6AIAfKK6ms3mzhWrq6v9/f0fphsAANiber0+MDDw+rLzB4oBAEDhxFwAAAIk5gIAECAxFwCAAIm5AAAESMwFACBAYi4AAAEScwEACJCYCwBAgMRcAAACJOYCABCg3WNuV1fX1tbWB2gFAAD2Zmtrq6ura/ud3WNuT0/Py5cv31tLAADwrl6+fNnT07P9zu4xt7e39/nz5++tJQAAeFcbGxu9vb3b7+wecw8ePFgqlZ49e/bixQurFwAA+HhsbW29ePHi2bNnPT09Bw8e3P5VV7PZzDPExsbG+vp6s9l89erV+2kSAAD+mK6urp6ent7e3jcybpQ/5gIAwCfEgWIAAARIzAUAIEBiLgAAAfpfYNyY+49RI+oAAAAASUVORK5CYII=)"
      ],
      "metadata": {
        "id": "TVXB2pMpago0"
      }
    },
    {
      "cell_type": "code",
      "source": [
        "a = int(input(\"How many floors of your pyramid?: \"))\n",
        "for i in range(1,a+1):\n",
        "  for x in range(1,i+1):\n",
        "    print(x, end=\" \")\n",
        "  print()"
      ],
      "metadata": {
        "colab": {
          "base_uri": "https://localhost:8080/"
        },
        "id": "5uAABNbrafq8",
        "outputId": "31a641ab-f566-4269-be41-319b1a151841"
      },
      "execution_count": 34,
      "outputs": [
        {
          "output_type": "stream",
          "name": "stdout",
          "text": [
            "How many floors of your pyramid?: 4\n",
            "1 \n",
            "1 2 \n",
            "1 2 3 \n",
            "1 2 3 4 \n"
          ]
        }
      ]
    },
    {
      "cell_type": "markdown",
      "source": [
        "Write a Python program to sum of two given integers. However, if the sum is between 15 to 20 it will return.\n",
        "\n"
      ],
      "metadata": {
        "id": "INtSeoAXcE2k"
      }
    },
    {
      "cell_type": "code",
      "source": [
        "a = int(input(\"Pls enter 1st number: \"))\n",
        "b = int(input(\"Pls enter 2nd number: \"))\n",
        "\n",
        "sum = a+b\n",
        "if sum>15 and sum<20:\n",
        "  print(sum)"
      ],
      "metadata": {
        "colab": {
          "base_uri": "https://localhost:8080/"
        },
        "id": "Vi87-U5vcCV1",
        "outputId": "06a39cfe-bcf9-4703-aeb4-989dc07c602f"
      },
      "execution_count": 37,
      "outputs": [
        {
          "output_type": "stream",
          "name": "stdout",
          "text": [
            "Pls enter 1st number: 12\n",
            "Pls enter 2nd number: 5\n",
            "17\n"
          ]
        }
      ]
    }
  ]
}