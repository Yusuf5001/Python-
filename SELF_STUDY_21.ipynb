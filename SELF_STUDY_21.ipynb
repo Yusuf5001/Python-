{
  "nbformat": 4,
  "nbformat_minor": 0,
  "metadata": {
    "colab": {
      "name": "SELF STUDY 21.ipynb",
      "provenance": [],
      "authorship_tag": "ABX9TyOp8mD7eyNS8ZKQExrbRCey",
      "include_colab_link": true
    },
    "kernelspec": {
      "name": "python3",
      "display_name": "Python 3"
    },
    "language_info": {
      "name": "python"
    }
  },
  "cells": [
    {
      "cell_type": "markdown",
      "metadata": {
        "id": "view-in-github",
        "colab_type": "text"
      },
      "source": [
        "<a href=\"https://colab.research.google.com/github/Yusuf5001/Python-/blob/main/SELF_STUDY_21.ipynb\" target=\"_parent\"><img src=\"https://colab.research.google.com/assets/colab-badge.svg\" alt=\"Open In Colab\"/></a>"
      ]
    },
    {
      "cell_type": "code",
      "execution_count": 1,
      "metadata": {
        "colab": {
          "base_uri": "https://localhost:8080/"
        },
        "id": "L6gvq23SBmol",
        "outputId": "d5e79797-b2d7-4028-9964-5059c9811471"
      },
      "outputs": [
        {
          "output_type": "execute_result",
          "data": {
            "text/plain": [
              "[1, 2, 3, 4]"
            ]
          },
          "metadata": {},
          "execution_count": 1
        }
      ],
      "source": [
        "def sorted_list(x, desc=True, n=2):\n",
        "   new_x = sorted(x, reverse=desc)[0:n]\n",
        "   return new_x\n",
        "\n",
        "\n",
        "\n",
        "\n",
        "\n",
        "y=[2,3,1,4,5,7]\n",
        "sorted_list(y, desc=False,n=4)"
      ]
    },
    {
      "cell_type": "code",
      "source": [
        "student_number = int(input(\"Enter the number of students: \"))\n",
        "\n",
        "student = dict()\n",
        "for i in range(student_number):\n",
        "  student_info = input(\"Name of the student and grades: \")\n",
        "  student_info = student_info.split() # [\"John\", \"22\", \"22.1\", \"30\"]\n",
        "  student_name = student_info[0]\n",
        "  student[student_name] = student_info[1:]\n",
        "\n",
        "\n",
        "inquiry_student = input(\"Name of the student to return records: \")\n",
        "\n",
        "\n",
        "sum_of_grades = 0\n",
        "for grade in student[inquiry_student]:\n",
        "  grade = float(grade)\n",
        "  sum_of_grades +=grade\n",
        "average_grade = sum_of_grades /3 \n",
        "print(average_grade)\n",
        "\n",
        "\n"
      ],
      "metadata": {
        "colab": {
          "base_uri": "https://localhost:8080/"
        },
        "id": "1wyV-VJHlB_8",
        "outputId": "c5f7dfa5-e75f-4da0-b529-f49a9bedede7"
      },
      "execution_count": 5,
      "outputs": [
        {
          "output_type": "stream",
          "name": "stdout",
          "text": [
            "Enter the number of students: 2\n",
            "Name of the student and grades: yusuf 22 20 12\n",
            "Name of the student and grades: yuro 12 10 22\n",
            "Name of the student to return records: yusuf\n",
            "18.0\n"
          ]
        }
      ]
    },
    {
      "cell_type": "code",
      "source": [
        "student_number = int(input(\"Enter the number of students: \"))\n",
        "\n",
        "student = dict()\n",
        "for i in range(student_number):\n",
        "  student_info = input(\"Name of the student and grades: \")\n",
        "  student_info = student_info.split() # [\"John\", \"22\", \"22.1\", \"30\"]\n",
        "  student_name = student_info[0]\n",
        "  student[student_name] = map(float,student_info[1:])\n",
        "\n",
        "\n",
        "inquiry_student = input(\"Name of the student to return records: \")\n",
        "\n",
        "\n",
        "sum_of_grades = sum(student[inquiry_student])\n",
        "average_grade = sum_of_grades / len(student.values())\n",
        "print(average_grade)\n"
      ],
      "metadata": {
        "colab": {
          "base_uri": "https://localhost:8080/"
        },
        "id": "XxNEPuhDo5Hf",
        "outputId": "c63af77a-8cde-4c26-fcd6-fe32023aecbf"
      },
      "execution_count": 13,
      "outputs": [
        {
          "output_type": "stream",
          "name": "stdout",
          "text": [
            "Enter the number of students: 2\n",
            "Name of the student and grades: jose 12 10 8\n",
            "Name of the student and grades: josie 22 20 88\n",
            "Name of the student to return records: jose\n",
            "15.0\n"
          ]
        }
      ]
    },
    {
      "cell_type": "code",
      "source": [
        "liste = [1,2,3,4,5]\n",
        "print(list(map(str,liste)))"
      ],
      "metadata": {
        "colab": {
          "base_uri": "https://localhost:8080/"
        },
        "id": "UhMCr3FFqe6_",
        "outputId": "4219bbbc-2ec8-48b1-deb3-39ea41bae5a1"
      },
      "execution_count": 10,
      "outputs": [
        {
          "output_type": "stream",
          "name": "stdout",
          "text": [
            "['1', '2', '3', '4', '5']\n"
          ]
        }
      ]
    },
    {
      "cell_type": "code",
      "source": [
        "# Runner-up score\n",
        "\n",
        "number = int(input(\"How many entiries: \"))\n",
        "listem = []\n",
        "for i in range(number):\n",
        "  new_entry= int(input(\"Enter the record: \"))\n",
        "  listem.append(new_entry)\n",
        "  listem = list(set(listem))\n",
        "\n",
        "listem.sort()\n",
        "print(listem)\n",
        "print(listem[-2])"
      ],
      "metadata": {
        "colab": {
          "base_uri": "https://localhost:8080/"
        },
        "id": "5FbSq3pZrSeY",
        "outputId": "84ee0cc2-8815-4b40-e183-60a69f2eddad"
      },
      "execution_count": 6,
      "outputs": [
        {
          "output_type": "stream",
          "name": "stdout",
          "text": [
            "How many entiries: 4\n",
            "Enter the record: 1\n",
            "Enter the record: 2\n",
            "Enter the record: 3\n",
            "Enter the record: 3\n",
            "[1, 2, 3]\n",
            "2\n"
          ]
        }
      ]
    },
    {
      "cell_type": "code",
      "source": [
        "string = \"Cuma\"\n",
        "print(sorted(string))\n",
        "print(\"\".join(sorted(string)))"
      ],
      "metadata": {
        "colab": {
          "base_uri": "https://localhost:8080/"
        },
        "id": "3NRQ2LMbsMjC",
        "outputId": "10682a67-95f8-4923-f766-c17b22a8de4a"
      },
      "execution_count": 8,
      "outputs": [
        {
          "output_type": "stream",
          "name": "stdout",
          "text": [
            "['C', 'a', 'm', 'u']\n",
            "Camu\n"
          ]
        }
      ]
    },
    {
      "cell_type": "code",
      "source": [
        "# reverse every string in a list\n",
        "strs = input(\"Pls enter a sentence as comma seperated: \")\n",
        "strs = strs.split(\", \")\n",
        "print(strs)\n",
        "for i in range(len(strs)):\n",
        "  strs[i]= strs[i][::-1]\n",
        "print(strs)\n"
      ],
      "metadata": {
        "colab": {
          "base_uri": "https://localhost:8080/"
        },
        "id": "42HdY5NcsnEK",
        "outputId": "d6279aa5-796e-45c9-9cd5-0dedb770a5f1"
      },
      "execution_count": 10,
      "outputs": [
        {
          "output_type": "stream",
          "name": "stdout",
          "text": [
            "Pls enter a sentence as comma seperated: i, you, me, and, us\n",
            "['i', 'you', 'me', 'and', 'us']\n",
            "['i', 'uoy', 'em', 'dna', 'su']\n"
          ]
        }
      ]
    },
    {
      "cell_type": "code",
      "source": [
        "strs = input(\"Pls enter a sentence as comma seperated: \")\n",
        "strs = strs.split(\", \")\n",
        "reversed_strs = [i[::-1] for i in strs]\n",
        "reversed_strs"
      ],
      "metadata": {
        "colab": {
          "base_uri": "https://localhost:8080/"
        },
        "id": "J6904C90x6BB",
        "outputId": "11913d5d-744b-42d1-8fc6-b48598029fa8"
      },
      "execution_count": 12,
      "outputs": [
        {
          "name": "stdout",
          "output_type": "stream",
          "text": [
            "Pls enter a sentence as comma seperated: yusuf, clarus\n"
          ]
        },
        {
          "output_type": "execute_result",
          "data": {
            "text/plain": [
              "['fusuy', 'suralc']"
            ]
          },
          "metadata": {},
          "execution_count": 12
        }
      ]
    }
  ]
}