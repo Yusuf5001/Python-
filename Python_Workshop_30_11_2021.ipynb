{
  "cells": [
    {
      "cell_type": "markdown",
      "metadata": {
        "id": "view-in-github",
        "colab_type": "text"
      },
      "source": [
        "<a href=\"https://colab.research.google.com/github/Yusuf5001/Python-/blob/main/Python_Workshop_30_11_2021.ipynb\" target=\"_parent\"><img src=\"https://colab.research.google.com/assets/colab-badge.svg\" alt=\"Open In Colab\"/></a>"
      ]
    },
    {
      "cell_type": "markdown",
      "metadata": {
        "id": "sO5X7-WxmV9j"
      },
      "source": [
        "<h1><center>Python Workshop - 30.11.2021</center></h1>"
      ]
    },
    {
      "cell_type": "markdown",
      "metadata": {
        "id": "NcHizXsJmV9x"
      },
      "source": [
        "### Question 1\n",
        "```\n",
        "Write a function that returns True if every consecutive sequence of ones is followed by a consecutive sequence of zeroes of the same length.\n",
        "\n",
        "same_length(\"110011100010\") ➞ True\n",
        "\n",
        "same_length(\"101010110\") ➞ False\n",
        "\n",
        "same_length(\"111100001100\") ➞ True\n",
        "\n",
        "same_length(\"111\") ➞ False\n",
        "```"
      ]
    },
    {
      "cell_type": "code",
      "execution_count": null,
      "metadata": {
        "colab": {
          "base_uri": "https://localhost:8080/"
        },
        "id": "xTulQCETmV91",
        "outputId": "c2f2d39d-be68-448a-97c4-412fb79ce27c"
      },
      "outputs": [
        {
          "output_type": "stream",
          "name": "stdout",
          "text": [
            "True\n"
          ]
        }
      ],
      "source": [
        "num = \"110011100010\"\n",
        "while \"10\" in num or \"01\" in num:\n",
        "    num = num.replace(\"10\",\"\").replace(\"01\",\"\")\n",
        "if num == \"\":\n",
        "    print(\"True\")\n",
        "else:\n",
        "    print(\"False\")"
      ]
    },
    {
      "cell_type": "code",
      "source": [
        "num = \"101010110\"\n",
        "while \"10\" in num or \"01\" in num:\n",
        "    num = num.replace(\"10\",\"\").replace(\"01\",\"\")\n",
        "if num == \"\":\n",
        "    print(\"True\")\n",
        "else:\n",
        "    print(\"False\")"
      ],
      "metadata": {
        "colab": {
          "base_uri": "https://localhost:8080/"
        },
        "id": "GJ5qUYLvmcs9",
        "outputId": "fd64e1ce-2ce4-4394-c31d-96dc2ce71f6d"
      },
      "execution_count": null,
      "outputs": [
        {
          "output_type": "stream",
          "name": "stdout",
          "text": [
            "False\n"
          ]
        }
      ]
    },
    {
      "cell_type": "markdown",
      "metadata": {
        "id": "bx_CDqxImV95"
      },
      "source": [
        "### Question 2\n",
        "```\n",
        "Write a function that groups a string into parentheses cluster. Each cluster should be balanced.\n",
        "split(\"()()()\") ➞ [\"()\", \"()\", \"()\"]\n",
        "\n",
        "split(\"((()))\") ➞ [\"((()))\"]\n",
        "\n",
        "split(\"((()))(())()()(()())\") ➞ [\"((()))\", \"(())\", \"()\", \"()\", \"(()())\"]\n",
        "\n",
        "split(\"((())())(()(()()))\") ➞ [\"((())())\", \"(()(()()))\"]\n",
        "```"
      ]
    },
    {
      "cell_type": "code",
      "execution_count": null,
      "metadata": {
        "colab": {
          "base_uri": "https://localhost:8080/"
        },
        "id": "tYPEi6y5mV98",
        "outputId": "3cee8a6e-28c6-4d01-a012-5e2b94c58b1a"
      },
      "outputs": [
        {
          "output_type": "stream",
          "name": "stdout",
          "text": [
            "['((()))', '(())', '()', '()', '(()())']\n"
          ]
        }
      ],
      "source": [
        "string = \"((()))(())()()(()())\"\n",
        "left, right = 0,0\n",
        "summ = \"\"\n",
        "listem = []\n",
        "for i in string:\n",
        "  if i == \"(\":\n",
        "    left +=1\n",
        "    summ +=i\n",
        "  else:\n",
        "    right +=1\n",
        "    summ +=i\n",
        "  if left == right:\n",
        "    listem.append(summ)\n",
        "    left, right, summ = 0,0,\"\"\n",
        "print(listem)"
      ]
    },
    {
      "cell_type": "markdown",
      "metadata": {
        "id": "xiIbpw0nmV99"
      },
      "source": [
        "### Question 3\n",
        "```\n",
        "Create a function that returns a list containing the prime factors of whatever integer is passed to it.\n",
        "\n",
        "prime_factors(20) ➞ [2, 2, 5]\n",
        "\n",
        "prime_factors(100) ➞ [2, 2, 5, 5]\n",
        "\n",
        "prime_factors(8912234) ➞ [2, 47, 94811]\n",
        "```"
      ]
    },
    {
      "cell_type": "code",
      "execution_count": null,
      "metadata": {
        "colab": {
          "base_uri": "https://localhost:8080/"
        },
        "id": "W7F33KNomV9_",
        "outputId": "53c647c4-36e3-417a-a5f7-d0721793f111"
      },
      "outputs": [
        {
          "output_type": "stream",
          "name": "stdout",
          "text": [
            "Pls enter a number: 766\n",
            "[2, 383]\n"
          ]
        }
      ],
      "source": [
        "no = int(input(\"Pls enter a number: \"))\n",
        "x=2 \n",
        "factors = []\n",
        "while no >1:\n",
        "  if no%x == 0:\n",
        "    no = no // x\n",
        "    factors.append(x)\n",
        "  else:\n",
        "    x +=1\n",
        "print(factors) "
      ]
    },
    {
      "cell_type": "markdown",
      "metadata": {
        "id": "d2ELPPGsmV-B"
      },
      "source": [
        "### Question 4\n",
        "```\n",
        "Create a function that takes a number num and returns each place value in the number.\n",
        "\n",
        "num_split(39) ➞ [30, 9]\n",
        "\n",
        "num_split(-434) ➞ [-400, -30, -4]\n",
        "\n",
        "num_split(100) ➞ [100, 0, 0]\n",
        "```"
      ]
    },
    {
      "cell_type": "code",
      "execution_count": null,
      "metadata": {
        "colab": {
          "base_uri": "https://localhost:8080/"
        },
        "id": "pjh2tKa0mV-E",
        "outputId": "86d88dbf-1eac-4859-de12-fe2e08bad8e6"
      },
      "outputs": [
        {
          "output_type": "stream",
          "name": "stdout",
          "text": [
            "Pls enter a number:-4212\n",
            "[-4000, -200, -10, -2]\n"
          ]
        }
      ],
      "source": [
        "entry =int(input(\"Pls enter a number:\"))\n",
        "\n",
        "if entry<0:\n",
        "  negative = True\n",
        "  entry = abs(entry)\n",
        "else:\n",
        "  negative = False\n",
        "\n",
        "entry = str(entry) \n",
        "lisem1 = []\n",
        "length = len(entry)-1\n",
        "\n",
        "for i in entry:\n",
        "  lisem1.append(i+\"0\"*length)\n",
        "  length -= 1\n",
        "\n",
        "if negative:\n",
        "  lisem1 = [-int(i) for i in lisem1]\n",
        "else:\n",
        "  lisem1 = [int(i) for i in lisem1]\n",
        "print(lisem1)\n"
      ]
    },
    {
      "cell_type": "markdown",
      "metadata": {
        "id": "pdCPAs-5mV-G"
      },
      "source": [
        "### Question 5\n",
        "```\n",
        "Create a function that takes an integer n and returns the factorial of factorials. \n",
        "\n",
        "See below examples for a better understanding:\n",
        "\n",
        "fact_of_fact(4) ➞ 288\n",
        "#4! * 3! * 2! * 1! = 288\n",
        "\n",
        "fact_of_fact(5) ➞ 34560\n",
        "\n",
        "fact_of_fact(6) ➞ 24883200\n",
        "```"
      ]
    },
    {
      "cell_type": "code",
      "execution_count": null,
      "metadata": {
        "colab": {
          "base_uri": "https://localhost:8080/"
        },
        "id": "O92yGXF6mV-I",
        "outputId": "4ff56052-f063-4119-c96e-75758c6bc02a"
      },
      "outputs": [
        {
          "output_type": "stream",
          "name": "stdout",
          "text": [
            "34560\n"
          ]
        }
      ],
      "source": [
        "number = 5\n",
        "ress = 1\n",
        "\n",
        "for i in range(2,number+1):\n",
        "  number = 1\n",
        "  for j in range(1,i+1):\n",
        "    number *=j\n",
        "  ress *= number  \n",
        "print(ress)"
      ]
    },
    {
      "cell_type": "markdown",
      "metadata": {
        "id": "huouWGkImV-J"
      },
      "source": [
        "### Question 6\n",
        "```\n",
        "You are given a list which may contain sublists. Your task is to find the depth of the deepest sublist.\n",
        "\n",
        "[a] = 1 depth\n",
        "[[a]] = 2 depth\n",
        "[[[a]]] = 3 depth, etc\n",
        "Examples\n",
        "deepest([1, [2, 3], 4, [5, 6]]) ➞ 2\n",
        "\n",
        "deepest([[[[[[[[[[1]]]]]]]]]]) ➞ 10\n",
        "\n",
        "deepest([1, 4, [1, 4, [1, 4, [1, 4, [5]]]]]) ➞ 5\n",
        "```"
      ]
    },
    {
      "cell_type": "code",
      "execution_count": 5,
      "metadata": {
        "id": "LcMTHBcxmV-L",
        "colab": {
          "base_uri": "https://localhost:8080/"
        },
        "outputId": "639aa253-9f13-4283-e8b1-c1c833edf490"
      },
      "outputs": [
        {
          "output_type": "stream",
          "name": "stdout",
          "text": [
            "[[], [[[[[5]]]]], [[[[[[6]]]]]], [[[[[[[[7]]]]]]]]]\n",
            "9\n"
          ]
        }
      ],
      "source": [
        "lst = [[],[[[[[5]]]]],[[[[[[6]]]]]],[[[[[[[[7]]]]]]]]]\n",
        "\n",
        "counter = 0\n",
        "listem = []\n",
        "lst = str(lst)\n",
        "print(lst)\n",
        "for i in lst:\n",
        "  if i == \"[\":\n",
        "    counter +=1\n",
        "    listem.append(counter)\n",
        "  elif i ==\"]\":\n",
        "    counter -=1\n",
        "    listem.append(counter)\n",
        "print(max(listem))\n"
      ]
    },
    {
      "cell_type": "markdown",
      "metadata": {
        "id": "XKHRY992mV-M"
      },
      "source": [
        "### Question 7\n",
        "```\n",
        "\"Loves me, loves me not\" is a traditional game in which a person plucks off all the petals of a flower one by one, saying the phrase \"Loves me\" and \"Loves me not\" when determining whether the one that they love, loves them back.\n",
        "\n",
        "Given a number of petals, return a string which repeats the phrases \"Loves me\" and \"Loves me not\" for every alternating petal, and return the last phrase in all caps. Remember to put a comma and space between phrases.\n",
        "\n",
        "For n = 5: \n",
        "Loves me, Loves me not, Loves me, Loves me not, LOVES ME\n",
        "```"
      ]
    },
    {
      "cell_type": "code",
      "execution_count": 10,
      "metadata": {
        "id": "Zu2KFNfcmV-N",
        "colab": {
          "base_uri": "https://localhost:8080/",
          "height": 36
        },
        "outputId": "a6682da0-f712-4953-df88-a3493d68c0a7"
      },
      "outputs": [
        {
          "output_type": "execute_result",
          "data": {
            "application/vnd.google.colaboratory.intrinsic+json": {
              "type": "string"
            },
            "text/plain": [
              "'Loves me,Loves me not, Loves me,Loves me not, Loves me,Loves me not, LOVES ME'"
            ]
          },
          "metadata": {},
          "execution_count": 10
        }
      ],
      "source": [
        "n = 7\n",
        "text1 = \"Loves me\"\n",
        "res = \"\"\n",
        "for i in range(1,n+1):\n",
        "  if i%2==0:\n",
        "    a = text1 + \" not, \"\n",
        "  else:\n",
        "    a = text1 + \",\"\n",
        "  if i!=n:\n",
        "    res += a\n",
        "  else:\n",
        "    res += a.upper()\n",
        "res = res.strip(\", \")\n",
        "res"
      ]
    },
    {
      "cell_type": "markdown",
      "metadata": {
        "id": "1QKK-tsemV-O"
      },
      "source": [
        "### Question 8\n",
        "```\n",
        "Given a string of size n, write functions to perform following operations on string.\n",
        "Left (Or anticlockwise) rotate the given string by d elements (where d <= n).\n",
        "Right (Or clockwise) rotate the given string by d elements (where d <= n). \n",
        "For example given word: \"Hippopotamus\"  \n",
        "\n",
        "result =\n",
        "Left Rotation :  opotamusHipp\n",
        "Right Rotation :  amusHippopot\n",
        "```"
      ]
    },
    {
      "cell_type": "code",
      "execution_count": 13,
      "metadata": {
        "id": "2DNLX8ZdmV-P",
        "colab": {
          "base_uri": "https://localhost:8080/"
        },
        "outputId": "b8b6bd9f-46a6-4e1f-d7f7-f78fde8c8964"
      },
      "outputs": [
        {
          "output_type": "stream",
          "name": "stdout",
          "text": [
            "potamusHippo\n",
            "tamusHippopo\n"
          ]
        }
      ],
      "source": [
        "my_text = \"Hippopotamus\"\n",
        "n = 5\n",
        "\n",
        "left = my_text[n:] + my_text[:n]\n",
        "\n",
        "right =my_text[:-n-1:-1][::-1] + my_text[:len(my_text)-n]\n",
        "print(left)\n",
        "print(right)\n"
      ]
    },
    {
      "cell_type": "markdown",
      "metadata": {
        "id": "NtDnL_o7mV-Q"
      },
      "source": [
        "### Question 9\n",
        "```z\n",
        "Given two strings s and t, create a function to determine if they are isomorphic. Two strings are isomorphic if the characters in s can be replaced to get t. All occurrences of a character must be replaced with another character while preserving the order of characters. No two characters may map to the same character but a character may map to itself.\n",
        "\n",
        "Examples\n",
        "is_isomorphic(\"egg\", \"add\") ➞ True\n",
        "\n",
        "is_isomorphic(\"aba\", \"baa\") ➞ False\n",
        "\n",
        "is_isomorphic(\"paper\", \"title\") ➞ True\n",
        "```"
      ]
    },
    {
      "cell_type": "code",
      "execution_count": 15,
      "metadata": {
        "id": "V5RQLDTgmV-R",
        "colab": {
          "base_uri": "https://localhost:8080/"
        },
        "outputId": "919b5e43-2aa7-459d-b22e-c32e478b6b1c"
      },
      "outputs": [
        {
          "output_type": "stream",
          "name": "stdout",
          "text": [
            "False\n"
          ]
        }
      ],
      "source": [
        "x = \"paperbnmmmnn\" \n",
        "y = \"titlesdfffod\"\n",
        "dictt = {}\n",
        "result = True\n",
        "if len(x) != len(y):\n",
        "  result = False\n",
        "else: \n",
        "  for i in range(len(x)):\n",
        "    if x[i] not in dictt:\n",
        "      dictt[x[i]]= y[i]\n",
        "    else:\n",
        "      if dictt[x[i]] != y[i]:\n",
        "        result = False\n",
        "print(result)\n"
      ]
    },
    {
      "cell_type": "code",
      "source": [
        "x = \"paperbnmmmnn\" \n",
        "y = \"titlesdfffnd\"\n",
        "dictt = {}\n",
        "result = True\n",
        "if len(x) != len(y):\n",
        "  result = False\n",
        "else: \n",
        "  for i in range(len(x)):\n",
        "    if x[i] not in dictt:\n",
        "      dictt[x[i]]= y[i]\n",
        "    else:\n",
        "      if dictt[x[i]] != y[i]:\n",
        "        result = False\n",
        "print(result)\n"
      ],
      "metadata": {
        "colab": {
          "base_uri": "https://localhost:8080/"
        },
        "id": "LYldPS-YlJNE",
        "outputId": "e626d228-8a71-40c4-e5cf-63945325aa44"
      },
      "execution_count": 16,
      "outputs": [
        {
          "output_type": "stream",
          "name": "stdout",
          "text": [
            "False\n"
          ]
        }
      ]
    },
    {
      "cell_type": "markdown",
      "metadata": {
        "id": "XvNJ-23GmV-S"
      },
      "source": [
        "### Question 10\n",
        "```\n",
        "Imagine you took all the numbers between 0 and n and concatenated them together into a long string. How many digits are there between 0 and n? Write a function that can calculate this.\n",
        "There are 0 digits between 0 and 1, there are 9 digits between 0 and 10 and there are 189 digits between 0 and 100.\n",
        "Examples digits(1) ➞ 0\n",
        "digits(10) ➞ 9\n",
        "digits(100) ➞ 189\n",
        "digits(2020) ➞ 6969\n",
        "Notes The numbers are going to be rather big so creating that string won't be practical.\n",
        "```"
      ]
    },
    {
      "cell_type": "code",
      "execution_count": 18,
      "metadata": {
        "id": "YAVEE3HhmV-U",
        "colab": {
          "base_uri": "https://localhost:8080/"
        },
        "outputId": "7266a97e-0cc9-43cc-d995-6a20b4a55ac4"
      },
      "outputs": [
        {
          "output_type": "stream",
          "name": "stdout",
          "text": [
            "13\n"
          ]
        }
      ],
      "source": [
        "n = 12\n",
        "countt = 0\n",
        "for i in range(1,n):\n",
        "  countt +=1\n",
        "  while i//10 !=0:\n",
        "    i = i//10\n",
        "    countt +=1\n",
        "print(countt)\n"
      ]
    },
    {
      "cell_type": "markdown",
      "metadata": {
        "id": "arDtw3oSmV-U"
      },
      "source": [
        "### Question 11\n",
        "```\n",
        "Print square pattern with alphabet symbols: \n",
        "\n",
        "input: pattern('A', 7)\n",
        "\n",
        "output :\n",
        "A A A A A A A \n",
        "B B B B B B B \n",
        "C C C C C C C \n",
        "D D D D D D D \n",
        "E E E E E E E \n",
        "F F F F F F F \n",
        "G G G G G G G \n",
        "```"
      ]
    },
    {
      "cell_type": "code",
      "execution_count": 21,
      "metadata": {
        "scrolled": true,
        "id": "ig2-ecTYmV-V",
        "colab": {
          "base_uri": "https://localhost:8080/"
        },
        "outputId": "0ec25aef-83b1-4bfd-beff-a9b7abc73aab"
      },
      "outputs": [
        {
          "output_type": "stream",
          "name": "stdout",
          "text": [
            "XXXXXXXXXX\n",
            "YYYYYYYYYY\n",
            "ZZZZZZZZZZ\n",
            "AAAAAAAAAA\n",
            "BBBBBBBBBB\n",
            "CCCCCCCCCC\n",
            "DDDDDDDDDD\n",
            "EEEEEEEEEE\n",
            "FFFFFFFFFF\n",
            "GGGGGGGGGG\n",
            "\n"
          ]
        }
      ],
      "source": [
        "harf = \"ABCDEFGHIJKLMNOPQRSTUVWXYZ\"\n",
        "s = \"X\"\n",
        "n = 10\n",
        "locate = harf.index(s)\n",
        "strr = \"\"\n",
        "for i in range(n):\n",
        "  strr += \"\".join([harf[locate] for j in range(n)]) + \"\\n\"\n",
        "  locate +=1\n",
        "  if locate > len(harf)-1:\n",
        "    locate = locate - len(harf)\n",
        "\n",
        "print(strr)\n",
        "\n"
      ]
    },
    {
      "cell_type": "markdown",
      "metadata": {
        "id": "lAI9gqFmmV-W"
      },
      "source": [
        "### Question 12\n",
        "```\n",
        "Given a 3x3 matrix of a completed tic-tac-toe game, create a function that returns whether the game is a win for \"X\", \"O\", or a \"Draw\", where \"X\" and \"O\" represent themselves on the matrix, and \"E\" represents an empty spot.\n",
        "\n",
        "Examples\n",
        "tic_tac_toe([\n",
        "  [\"X\", \"O\", \"X\"],\n",
        "  [\"O\", \"X\",  \"O\"],\n",
        "  [\"O\", \"X\",  \"X\"]\n",
        "]) ➞ \"X\"\n",
        "\n",
        "tic_tac_toe([\n",
        "  [\"O\", \"O\", \"O\"],\n",
        "  [\"O\", \"X\", \"X\"],\n",
        "  [\"E\", \"X\", \"X\"]\n",
        "]) ➞ \"O\"\n",
        "\n",
        "tic_tac_toe([\n",
        "  [\"X\", \"X\", \"O\"],\n",
        "  [\"O\", \"O\", \"X\"],\n",
        "  [\"X\", \"X\", \"O\"]\n",
        "]) ➞ \"Draw\"\n",
        "```"
      ]
    },
    {
      "cell_type": "code",
      "execution_count": 31,
      "metadata": {
        "id": "GIPnnowrmV-X",
        "colab": {
          "base_uri": "https://localhost:8080/"
        },
        "outputId": "42d4b33e-416c-463f-88bb-2d23dc18dd27"
      },
      "outputs": [
        {
          "output_type": "stream",
          "name": "stdout",
          "text": [
            "[['O', 'O', 'E'], ['X', 'X', 'X'], ['O', 'X', 'X']]\n",
            "X\n"
          ]
        }
      ],
      "source": [
        "game =[ \n",
        "       [\"O\", \"X\", \"O\"],\n",
        "       [\"O\", \"X\", \"X\"],\n",
        "       [\"E\", \"X\", \"X\"]\n",
        "       ]\n",
        "result = \"Draw\"\n",
        "\n",
        "vertical = list(map(lambda *x: [*x], *game))\n",
        "print(vertical)\n",
        "for i in range(len(game)):\n",
        "  if len(set(game[i]))==1 and game[i][0] !=\"E\":\n",
        "    result = game[i][0]\n",
        "    break\n",
        "  elif len(set(vertical[i]))==1 and vertical[i][0] !=\"E\":\n",
        "    result = vertical[i][0]\n",
        "    break\n",
        "if result == \"Draw\":\n",
        "  if game == [0][0] == game[1][1] == game[0][0] and game[0][0] != \"E\":\n",
        "    result = game[0][0]\n",
        "  elif game == [0][2] == game[1][1] == game[2][0] and game[0][2] != \"E\":\n",
        "    result = game[0][2]\n",
        "\n",
        "print(result)\n"
      ]
    },
    {
      "cell_type": "code",
      "source": [
        "list(map(lambda x,y,z: x+y+z, [\"1\",\"2\"], [\"3\",\"4\"], [\"5\",\"6\"]))"
      ],
      "metadata": {
        "colab": {
          "base_uri": "https://localhost:8080/"
        },
        "id": "vlOan-8mzen2",
        "outputId": "9f2fce3c-68b4-4947-9658-04a2100e75c5"
      },
      "execution_count": 22,
      "outputs": [
        {
          "output_type": "execute_result",
          "data": {
            "text/plain": [
              "['135', '246']"
            ]
          },
          "metadata": {},
          "execution_count": 22
        }
      ]
    },
    {
      "cell_type": "markdown",
      "metadata": {
        "id": "_zwhhCxzmV-X"
      },
      "source": [
        "### Question 13\n",
        "```\n",
        "This problem was asked by Google.\n",
        "The power set of a set is the set of all its subsets. Write a function\n",
        "that, given a set, generates its power set.\n",
        "For example, given the set {1, 2, 3}, it should return {{}, {1}, {2}, {3},\n",
        "{1, 2}, {1, 3}, {2, 3}, {1, 2, 3}}.\n",
        "You may also use a list or array to represent a set.\n",
        "```"
      ]
    },
    {
      "cell_type": "code",
      "execution_count": 32,
      "metadata": {
        "id": "ismMtd0rmV-Y",
        "colab": {
          "base_uri": "https://localhost:8080/"
        },
        "outputId": "299bb771-5b11-444f-aae3-19ebbcf3dcc8"
      },
      "outputs": [
        {
          "output_type": "stream",
          "name": "stdout",
          "text": [
            "[[], [1]]\n",
            "[[], [1], [2]]\n",
            "[[], [1], [2], [1, 2]]\n",
            "[[], [1], [2], [1, 2], [3]]\n",
            "[[], [1], [2], [1, 2], [3], [1, 3]]\n",
            "[[], [1], [2], [1, 2], [3], [1, 3], [2, 3]]\n",
            "[[], [1], [2], [1, 2], [3], [1, 3], [2, 3], [1, 2, 3]]\n",
            "[[], [1], [2], [1, 2], [3], [1, 3], [2, 3], [1, 2, 3], [4]]\n",
            "[[], [1], [2], [1, 2], [3], [1, 3], [2, 3], [1, 2, 3], [4], [1, 4]]\n",
            "[[], [1], [2], [1, 2], [3], [1, 3], [2, 3], [1, 2, 3], [4], [1, 4], [2, 4]]\n",
            "[[], [1], [2], [1, 2], [3], [1, 3], [2, 3], [1, 2, 3], [4], [1, 4], [2, 4], [1, 2, 4]]\n",
            "[[], [1], [2], [1, 2], [3], [1, 3], [2, 3], [1, 2, 3], [4], [1, 4], [2, 4], [1, 2, 4], [3, 4]]\n",
            "[[], [1], [2], [1, 2], [3], [1, 3], [2, 3], [1, 2, 3], [4], [1, 4], [2, 4], [1, 2, 4], [3, 4], [1, 3, 4]]\n",
            "[[], [1], [2], [1, 2], [3], [1, 3], [2, 3], [1, 2, 3], [4], [1, 4], [2, 4], [1, 2, 4], [3, 4], [1, 3, 4], [2, 3, 4]]\n",
            "[[], [1], [2], [1, 2], [3], [1, 3], [2, 3], [1, 2, 3], [4], [1, 4], [2, 4], [1, 2, 4], [3, 4], [1, 3, 4], [2, 3, 4], [1, 2, 3, 4]]\n"
          ]
        }
      ],
      "source": [
        "lste = [1, 2, 3, 4]\n",
        "arry = [[]]\n",
        "for i in lste:\n",
        "  for j in arry:\n",
        "    arry = arry +[j+[i]]\n",
        "    print(arry)"
      ]
    },
    {
      "cell_type": "markdown",
      "metadata": {
        "id": "oFgNGsujmV-Z"
      },
      "source": [
        "### Question 14\n",
        "```\n",
        "This problem was asked by Microsoft.\n",
        "A number is considered perfect if its digits sum up to exactly 10. Given a positive integer n, return the n-th perfect number.\n",
        "For example, given 1, you should return 19. Given 2, you should return 28.\n",
        "```"
      ]
    },
    {
      "cell_type": "code",
      "execution_count": null,
      "metadata": {
        "id": "Ze8v7R0ZmV-Z"
      },
      "outputs": [],
      "source": [
        ""
      ]
    },
    {
      "cell_type": "markdown",
      "metadata": {
        "id": "bieb7RNimV-a"
      },
      "source": [
        "### Question 15\n",
        "```\n",
        "An identity matrix is defined as a square matrix with 1s running from the top left of the square to the bottom right. The rest are 0s. The identity matrix has applications ranging from machine learning to the general theory of relativity.\n",
        "\n",
        "Create a function that takes an integer n and returns the identity matrix of n x n dimensions. For this challenge, if the integer is negative, return the mirror image of the identity matrix of n x n dimensions.. It does not matter if the mirror image is left-right or top-bottom.\n",
        "\n",
        "Incompatible types passed as n should return the string \"Error\".\n",
        "```"
      ]
    },
    {
      "cell_type": "code",
      "execution_count": null,
      "metadata": {
        "id": "cL8cugQUmV-a"
      },
      "outputs": [],
      "source": [
        ""
      ]
    },
    {
      "cell_type": "markdown",
      "metadata": {
        "id": "8GLXhHjzmV-a"
      },
      "source": [
        "### Question 16\n",
        "```\n",
        "This problem was asked by Yelp.\n",
        "Given a mapping of digits to letters (as in a phone number), and a digit string,return all possible letters the number could represent. You can assume each valid number in the mapping is a single digit.\n",
        "For example if {“2”: [“a”, “b”, “c”], 3: [“d”, “e”, “f”], …} then “23” should return [“ad”, “ae”, “af”, “bd”, “be”, “bf”, “cd”, “ce”, “cf\"].\n",
        "```"
      ]
    },
    {
      "cell_type": "code",
      "execution_count": null,
      "metadata": {
        "id": "vqhdnCkCmV-a"
      },
      "outputs": [],
      "source": [
        ""
      ]
    }
  ],
  "metadata": {
    "kernelspec": {
      "display_name": "Python 3 (ipykernel)",
      "language": "python",
      "name": "python3"
    },
    "language_info": {
      "codemirror_mode": {
        "name": "ipython",
        "version": 3
      },
      "file_extension": ".py",
      "mimetype": "text/x-python",
      "name": "python",
      "nbconvert_exporter": "python",
      "pygments_lexer": "ipython3",
      "version": "3.8.5"
    },
    "colab": {
      "name": "Python_Workshop-30.11.2021.ipynb",
      "provenance": [],
      "include_colab_link": true
    }
  },
  "nbformat": 4,
  "nbformat_minor": 0
}