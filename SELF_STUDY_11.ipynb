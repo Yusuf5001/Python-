{
  "nbformat": 4,
  "nbformat_minor": 0,
  "metadata": {
    "colab": {
      "name": "SELF STUDY 11.ipynb",
      "provenance": [],
      "authorship_tag": "ABX9TyPBegZUIAwaG/iBHi2Ekl5z",
      "include_colab_link": true
    },
    "kernelspec": {
      "name": "python3",
      "display_name": "Python 3"
    },
    "language_info": {
      "name": "python"
    }
  },
  "cells": [
    {
      "cell_type": "markdown",
      "metadata": {
        "id": "view-in-github",
        "colab_type": "text"
      },
      "source": [
        "<a href=\"https://colab.research.google.com/github/Yusuf5001/Python-/blob/main/SELF_STUDY_11.ipynb\" target=\"_parent\"><img src=\"https://colab.research.google.com/assets/colab-badge.svg\" alt=\"Open In Colab\"/></a>"
      ]
    },
    {
      "cell_type": "code",
      "execution_count": 17,
      "metadata": {
        "id": "vt9z4lLfk5Is",
        "colab": {
          "base_uri": "https://localhost:8080/"
        },
        "outputId": "e4376951-03f3-4acc-9d1f-86312f582409"
      },
      "outputs": [
        {
          "output_type": "stream",
          "name": "stdout",
          "text": [
            "[0, -10]\n"
          ]
        }
      ],
      "source": [
        "command = [\"right 20\", \"right 30\", \"left 50\", \"up 10\", \"down 20\"] #stop at (0,-10)\n",
        "x, y = 0, 0\n",
        "for i in range(len(command)):\n",
        "  if command[i].startswith(\"r\"): x = x + int(command[i].split()[1])\n",
        "  elif command[i].startswith(\"l\"): x = x - int(command[i].split()[1])\n",
        "  elif command[i].startswith(\"u\"): y = y + int(command[i].split()[1])\n",
        "  elif command[i].startswith(\"d\"): y = y - int(command[i].split()[1])\n",
        "print([x,y])"
      ]
    },
    {
      "cell_type": "code",
      "source": [
        "a = \"[([{({})}])\"\n",
        "b = \"([{({})}])\"\n",
        "def isValid(s):\n",
        "  while \"()\" in s or \"{}\" in s or \"[]\" in s:\n",
        "    s = s.replace(\"()\",\"\").replace(\"{}\",\"\").replace(\"[]\",\"\")\n",
        "  return s==\"\"\n",
        "isValid(a)"
      ],
      "metadata": {
        "colab": {
          "base_uri": "https://localhost:8080/"
        },
        "id": "6IpMRVvMmr9b",
        "outputId": "2d0aad6c-b5b6-4996-eb0f-d6a6cdc83692"
      },
      "execution_count": 22,
      "outputs": [
        {
          "output_type": "execute_result",
          "data": {
            "text/plain": [
              "False"
            ]
          },
          "metadata": {},
          "execution_count": 22
        }
      ]
    },
    {
      "cell_type": "code",
      "source": [
        "(lambda x,y: x+y)(4,5)"
      ],
      "metadata": {
        "colab": {
          "base_uri": "https://localhost:8080/"
        },
        "id": "lFDdNQgqq8YK",
        "outputId": "1d4ead3a-44ec-4144-ff75-555d4c7677b5"
      },
      "execution_count": 24,
      "outputs": [
        {
          "output_type": "execute_result",
          "data": {
            "text/plain": [
              "9"
            ]
          },
          "metadata": {},
          "execution_count": 24
        }
      ]
    },
    {
      "cell_type": "code",
      "source": [
        "my_dict = {\"voc\":\"hear me\",\n",
        "           \"why\": [\"idk\"]}\n",
        "my_dict[\"why\"]"
      ],
      "metadata": {
        "colab": {
          "base_uri": "https://localhost:8080/"
        },
        "id": "_iWFiyMarSze",
        "outputId": "dab4cd36-340a-4094-e5b7-876c1452b5cb"
      },
      "execution_count": 26,
      "outputs": [
        {
          "output_type": "execute_result",
          "data": {
            "text/plain": [
              "['idk']"
            ]
          },
          "metadata": {},
          "execution_count": 26
        }
      ]
    },
    {
      "cell_type": "code",
      "source": [
        "calculator = {\"+\":(lambda x,y: x+y) ,\n",
        "              \"-\":(lambda x,y: x-y) ,\n",
        "              \"*\":(lambda x,y: x*y) ,\n",
        "              \"/\":(lambda x,y: x/y)}\n",
        "print(calculator[\"+\"](4,5))\n",
        "print(calculator[\"-\"](4,5))\n",
        "print(calculator[\"*\"](4,5))\n",
        "print(calculator[\"/\"](4,5))\n"
      ],
      "metadata": {
        "colab": {
          "base_uri": "https://localhost:8080/"
        },
        "id": "sCQjlomVr0Q5",
        "outputId": "0f09504d-4457-46b4-a783-5031f5df4455"
      },
      "execution_count": 30,
      "outputs": [
        {
          "output_type": "stream",
          "name": "stdout",
          "text": [
            "9\n",
            "-1\n",
            "20\n",
            "0.8\n"
          ]
        }
      ]
    },
    {
      "cell_type": "code",
      "source": [
        "import random\n",
        "#AAAaaa111?!\n",
        "random.randint(10,66)"
      ],
      "metadata": {
        "colab": {
          "base_uri": "https://localhost:8080/"
        },
        "id": "IDHJodV6uLlu",
        "outputId": "9ec67ed0-31be-4113-f159-c696e93b4024"
      },
      "execution_count": 32,
      "outputs": [
        {
          "output_type": "execute_result",
          "data": {
            "text/plain": [
              "61"
            ]
          },
          "metadata": {},
          "execution_count": 32
        }
      ]
    },
    {
      "cell_type": "code",
      "source": [
        "chr(random.randint(33,47))"
      ],
      "metadata": {
        "colab": {
          "base_uri": "https://localhost:8080/",
          "height": 35
        },
        "id": "C7k8CKDmvCh6",
        "outputId": "31ad8acf-f609-47ff-81fc-1681a40bbd5f"
      },
      "execution_count": 43,
      "outputs": [
        {
          "output_type": "execute_result",
          "data": {
            "application/vnd.google.colaboratory.intrinsic+json": {
              "type": "string"
            },
            "text/plain": [
              "'/'"
            ]
          },
          "metadata": {},
          "execution_count": 43
        }
      ]
    },
    {
      "cell_type": "code",
      "source": [
        "uppers = [chr(random.randint(65,90)) for i in range(3)]\n",
        "uppers"
      ],
      "metadata": {
        "colab": {
          "base_uri": "https://localhost:8080/"
        },
        "id": "QqdjnY4Lzusv",
        "outputId": "f325051d-b759-4aa4-cb45-787097d31b4c"
      },
      "execution_count": 78,
      "outputs": [
        {
          "output_type": "execute_result",
          "data": {
            "text/plain": [
              "['H', 'X', 'M']"
            ]
          },
          "metadata": {},
          "execution_count": 78
        }
      ]
    },
    {
      "cell_type": "code",
      "source": [
        "lowers = [chr(random.randint(97,122)) for i in range(3)]\n",
        "lowers"
      ],
      "metadata": {
        "colab": {
          "base_uri": "https://localhost:8080/"
        },
        "id": "7uZUe4S40v7q",
        "outputId": "95f0c746-c133-421a-ee65-e728f727c725"
      },
      "execution_count": 79,
      "outputs": [
        {
          "output_type": "execute_result",
          "data": {
            "text/plain": [
              "['t', 'h', 'i']"
            ]
          },
          "metadata": {},
          "execution_count": 79
        }
      ]
    },
    {
      "cell_type": "code",
      "source": [
        "nums = [chr(random.randint(48,57)) for i in range(3)]\n",
        "nums"
      ],
      "metadata": {
        "colab": {
          "base_uri": "https://localhost:8080/"
        },
        "id": "nkx6uLnO0zsU",
        "outputId": "eebb4305-71ea-4ba3-fcdf-c1f1a0ff8d16"
      },
      "execution_count": 80,
      "outputs": [
        {
          "output_type": "execute_result",
          "data": {
            "text/plain": [
              "['5', '9', '1']"
            ]
          },
          "metadata": {},
          "execution_count": 80
        }
      ]
    },
    {
      "cell_type": "code",
      "source": [
        "chars = [chr(random.randint(33,47)) for i in range(3)]\n",
        "chars"
      ],
      "metadata": {
        "colab": {
          "base_uri": "https://localhost:8080/"
        },
        "id": "H05iIr2F07i3",
        "outputId": "4553d989-9d9e-43a7-ffed-b3bfc8500fc2"
      },
      "execution_count": 81,
      "outputs": [
        {
          "output_type": "execute_result",
          "data": {
            "text/plain": [
              "['!', '%', '#']"
            ]
          },
          "metadata": {},
          "execution_count": 81
        }
      ]
    },
    {
      "cell_type": "code",
      "source": [
        "\"\".join(nums)"
      ],
      "metadata": {
        "colab": {
          "base_uri": "https://localhost:8080/",
          "height": 35
        },
        "id": "gopSey7P1Wqs",
        "outputId": "dcb0b71a-328c-4810-8266-b15aafc13043"
      },
      "execution_count": 61,
      "outputs": [
        {
          "output_type": "execute_result",
          "data": {
            "application/vnd.google.colaboratory.intrinsic+json": {
              "type": "string"
            },
            "text/plain": [
              "'006'"
            ]
          },
          "metadata": {},
          "execution_count": 61
        }
      ]
    },
    {
      "cell_type": "code",
      "source": [
        "password = \"\".join(uppers)+\"\".join(lowers)+\"\".join(chars)+\"\".join(nums)\n",
        "password\n"
      ],
      "metadata": {
        "colab": {
          "base_uri": "https://localhost:8080/",
          "height": 35
        },
        "id": "Ikg8FYTC14CU",
        "outputId": "cea2dec5-b4c5-47bf-e54f-b32b1edf6d95"
      },
      "execution_count": 82,
      "outputs": [
        {
          "output_type": "execute_result",
          "data": {
            "application/vnd.google.colaboratory.intrinsic+json": {
              "type": "string"
            },
            "text/plain": [
              "'HXMthi!%#591'"
            ]
          },
          "metadata": {},
          "execution_count": 82
        }
      ]
    },
    {
      "cell_type": "code",
      "source": [
        "def shuffle(password):\n",
        "  templist = list(password)\n",
        "  random.shuffle(templist)\n",
        "  return \"\".join(templist)\n",
        "passw = shuffle(password)\n",
        "print(passw)"
      ],
      "metadata": {
        "colab": {
          "base_uri": "https://localhost:8080/"
        },
        "id": "C2npp5qO3vqG",
        "outputId": "8c02f28d-ea50-4f16-9bfd-0831ea9f0f9a"
      },
      "execution_count": 83,
      "outputs": [
        {
          "output_type": "stream",
          "name": "stdout",
          "text": [
            "i9#1t!MH%5Xh\n"
          ]
        }
      ]
    },
    {
      "cell_type": "code",
      "source": [
        "examp = \"iyoumeandus\"\n",
        "examp1 = list(examp)\n",
        "random.shuffle(examp1)\n",
        "print(examp1)\n",
        "\"\".join(examp1)"
      ],
      "metadata": {
        "colab": {
          "base_uri": "https://localhost:8080/",
          "height": 53
        },
        "id": "UPXZbzRf2QZH",
        "outputId": "cf564714-d330-443d-9a0c-895af85cd899"
      },
      "execution_count": 84,
      "outputs": [
        {
          "output_type": "stream",
          "name": "stdout",
          "text": [
            "['m', 'i', 'o', 'u', 'n', 'a', 'e', 'y', 'd', 'u', 's']\n"
          ]
        },
        {
          "output_type": "execute_result",
          "data": {
            "application/vnd.google.colaboratory.intrinsic+json": {
              "type": "string"
            },
            "text/plain": [
              "'miounaeydus'"
            ]
          },
          "metadata": {},
          "execution_count": 84
        }
      ]
    },
    {
      "cell_type": "code",
      "source": [
        "from timeit import timeit"
      ],
      "metadata": {
        "id": "4cJ6AcOI5qIQ"
      },
      "execution_count": 85,
      "outputs": []
    },
    {
      "cell_type": "code",
      "source": [
        "def for_loop():\n",
        "  result = []\n",
        "  for i in range(1000000):\n",
        "    result.append(i)\n",
        "  return result"
      ],
      "metadata": {
        "id": "X4LujMwl5uW7"
      },
      "execution_count": 86,
      "outputs": []
    },
    {
      "cell_type": "code",
      "source": [
        "def list_comp():\n",
        "  return [i for i in range(1000000)]"
      ],
      "metadata": {
        "id": "QgjSkIeQ6Muf"
      },
      "execution_count": 87,
      "outputs": []
    },
    {
      "cell_type": "code",
      "source": [
        "#size = 100\n",
        "time_for = timeit(for_loop, number=size)\n",
        "time_list_comp = timeit(list_comp,number=size)"
      ],
      "metadata": {
        "id": "NLC8X_Ij69ca"
      },
      "execution_count": 90,
      "outputs": []
    },
    {
      "cell_type": "code",
      "source": [
        "print(f\"List comp is {round(time_for/time_list_comp,2)} times faster than for_lopps.\")"
      ],
      "metadata": {
        "colab": {
          "base_uri": "https://localhost:8080/"
        },
        "id": "BNBCQCsG7qPK",
        "outputId": "f9cdfe2f-6b46-42c0-901c-72067de7e905"
      },
      "execution_count": 91,
      "outputs": [
        {
          "output_type": "stream",
          "name": "stdout",
          "text": [
            "List comp is 1.7 times faster than for_lopps.\n"
          ]
        }
      ]
    }
  ]
}