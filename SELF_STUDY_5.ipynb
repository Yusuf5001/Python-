{
  "nbformat": 4,
  "nbformat_minor": 0,
  "metadata": {
    "colab": {
      "name": "SELF STUDY 5.ipynb",
      "provenance": [],
      "authorship_tag": "ABX9TyNYMYOzqyCJ6MvVUZi1VLZ3",
      "include_colab_link": true
    },
    "kernelspec": {
      "display_name": "Python 3",
      "name": "python3"
    },
    "language_info": {
      "name": "python"
    }
  },
  "cells": [
    {
      "cell_type": "markdown",
      "metadata": {
        "id": "view-in-github",
        "colab_type": "text"
      },
      "source": [
        "<a href=\"https://colab.research.google.com/github/Yusuf5001/Python-/blob/main/SELF_STUDY_5.ipynb\" target=\"_parent\"><img src=\"https://colab.research.google.com/assets/colab-badge.svg\" alt=\"Open In Colab\"/></a>"
      ]
    },
    {
      "cell_type": "code",
      "metadata": {
        "colab": {
          "base_uri": "https://localhost:8080/"
        },
        "id": "fz3fP8U-kcmp",
        "outputId": "842b6cbb-82d5-4254-bae3-251868563d3a"
      },
      "source": [
        "entry = int(input(\"pls enter a number: \"))\n",
        "listem = [2,3]\n",
        "counter = 2\n",
        "while counter <= entry:\n",
        "  if entry %counter == 0:\n",
        "    listem.append(counter)\n",
        "    counter +=1\n",
        "    break\n",
        "print(listem)"
      ],
      "execution_count": null,
      "outputs": [
        {
          "output_type": "stream",
          "name": "stdout",
          "text": [
            "pls enter a number: 44\n",
            "[2, 3, 2]\n"
          ]
        }
      ]
    },
    {
      "cell_type": "code",
      "metadata": {
        "id": "OO-8kzQ0Znz8"
      },
      "source": [
        "pnumber = int(input(\"pls enter a number: \"))\n",
        "counter = 0\n",
        "for i in range(1, pnumber+1):\n",
        "  if pnumber %i == 0:\n",
        "    counter +=1\n",
        "if counter<=2:\n",
        "  print(pnumber, \"its a prime number\")\n",
        "else:\n",
        "  print(pnumber, \"its not a prime number\")"
      ],
      "execution_count": null,
      "outputs": []
    },
    {
      "cell_type": "code",
      "metadata": {
        "colab": {
          "base_uri": "https://localhost:8080/"
        },
        "id": "oV2FuV6tiFsy",
        "outputId": "0b1ccfbe-a92b-4c19-9547-f5c148c5d8ae"
      },
      "source": [
        "import time\n",
        "start = time.time()\n",
        "print(time.asctime())\n",
        "print(time.gmtime())\n",
        "now = time.gmtime()\n",
        "print(now[0])\n",
        "now = time.asctime(now)\n",
        "print(now)\n",
        "time.sleep(3) # wait to execute next code block\n",
        "stop = time.time()\n",
        "print(stop-start)"
      ],
      "execution_count": null,
      "outputs": [
        {
          "name": "stdout",
          "output_type": "stream",
          "text": [
            "Wed Nov 24 15:25:47 2021\n",
            "time.struct_time(tm_year=2021, tm_mon=11, tm_mday=24, tm_hour=15, tm_min=25, tm_sec=47, tm_wday=2, tm_yday=328, tm_isdst=0)\n",
            "2021\n",
            "Wed Nov 24 15:25:47 2021\n",
            "3.0041072368621826\n"
          ]
        }
      ]
    },
    {
      "cell_type": "markdown",
      "metadata": {
        "id": "KZHSHQxggBKl"
      },
      "source": [
        "1- Belirli bir sayıda hatalı şifre girince ekranı kilitliyor ve bizi bekletiyor.\n",
        "2-Bizde bekleme sürelerini şu şekilde yapalım.\n",
        "     0-3 arası hatalı girişte sadece hatalı şifre yazsın\n",
        "    3 ve 5 arası hatalı girişte 3 sn beklesin ve saniyeleri ekrana yazdırsın.\n",
        "    5 ve 10 arası hatalı girişte 10 sn beklesin saniyeleri ekranda göstersin\n",
        "3- Kullanıcı doğru girinceye kadar devam etsin bu durum. Doğru paralo girdiğinde program sonlansın. giriş başarılı olsun."
      ]
    },
    {
      "cell_type": "code",
      "metadata": {
        "id": "gVE-2QjMfhz9"
      },
      "source": [
        "# psw = first set your password and assign it\n",
        "# entry = ask for input\n",
        "# no of entry = 0\n",
        "# in while loop entry != psw:\n",
        "# incorrect entry pls try again and repeat 3 times..  no of  entry +=1\n",
        "# while no of entry > 3 and no of entry < 5 0\n",
        "# print wait for 3 seconds\n",
        "# while no of entry > 5 and no of entry < 10 \n",
        "# print wait for 10 sn\n",
        "# time function ogren"
      ],
      "execution_count": null,
      "outputs": []
    },
    {
      "cell_type": "code",
      "metadata": {
        "colab": {
          "base_uri": "https://localhost:8080/"
        },
        "id": "9jA_bh3yjd7_",
        "outputId": "2e864853-ed0c-469e-cbce-1cad7e85b238"
      },
      "source": [
        "pswrd = \"Leeds\"\n",
        "entry = input(\"Pls enter your password:\").strip()\n",
        "counter = 0\n",
        "while entry != pswrd and counter <3:\n",
        "  print(\"incorrect entry. pls reenter.\")\n",
        "  entry = input(\"Pls enter your password: \").strip()\n",
        "  counter +=1\n",
        "  time.sleep(3)\n",
        "  while entry != pswrd and no_of_entry >3 and no_of_entry<5:\n",
        "    print(\"incorrect entry. pls reenter.\")\n",
        "    entry = input(\"Pls enter your password: \").strip()\n",
        "    no_of_entry +=1\n",
        "    time.sleep(5)\n",
        "    while entry != pswrd and no_of_entry >5 and no_of_entry<10:\n",
        "      print(\"incorrect entry. pls reenter.\")\n",
        "      entry = input(\"Pls enter your password: \").strip()\n",
        "      no_of_entry +=1\n",
        "      time.sleep(10)\n",
        "      while entry != pswrd and no_of_entry >10 and no_of_entry<99:\n",
        "        print(\"incorrect entry. pls reenter.\")\n",
        "        entry = input(\"Pls enter your password: \").strip()\n",
        "        no_of_entry +=1"
      ],
      "execution_count": null,
      "outputs": [
        {
          "name": "stdout",
          "output_type": "stream",
          "text": [
            "Pls enter your password:2\n",
            "incorrect entry. pls reenter.\n",
            "Pls enter your password: 213\n",
            "incorrect entry. pls reenter.\n",
            "Pls enter your password: 123\n",
            "incorrect entry. pls reenter.\n",
            "Pls enter your password: 323\n"
          ]
        }
      ]
    },
    {
      "cell_type": "code",
      "metadata": {
        "colab": {
          "base_uri": "https://localhost:8080/"
        },
        "id": "JqGj089ul-gR",
        "outputId": "9f8662ab-170e-40cb-ffab-f3d207cce95b"
      },
      "source": [
        "pswrd = \"Leeds\"\n",
        "entry = input(\"Pls enter your password:\").strip()\n",
        "if entry != pswrd:\n",
        "  for i in range(1,4):\n",
        "    print(\"incorrect entry. pls reenter.\")\n",
        "    entry = input(\"Pls enter your password: \").strip()\n",
        "time.sleep(3)\n",
        "if entry != pswrd:\n",
        "  for i in range(1,6):\n",
        "    print(\"incorrect entry. pls reenter.\")\n",
        "    entry = input(\"Pls enter your password: \").strip()\n",
        "time.sleep(5)      \n",
        "if entry != pswrd:\n",
        "  for i in range(1,11):\n",
        "    print(\"incorrect entry. pls reenter.\")\n",
        "    entry = input(\"Pls enter your password: \").strip()\n",
        "time.sleep(10)\n",
        "print(\"You entered incorrect password.Your screen is locked. Pls reset your device.\")"
      ],
      "execution_count": null,
      "outputs": [
        {
          "name": "stdout",
          "output_type": "stream",
          "text": [
            "Pls enter your password:12\n",
            "incorrect entry. pls reenter.\n",
            "Pls enter your password: 12\n",
            "incorrect entry. pls reenter.\n",
            "Pls enter your password: 12\n",
            "incorrect entry. pls reenter.\n",
            "Pls enter your password: Leeds\n",
            "You entered incorrect password.Your screen is locked. Pls reset your device.\n"
          ]
        }
      ]
    },
    {
      "cell_type": "markdown",
      "metadata": {
        "id": "c_U8S5Was10z"
      },
      "source": [
        "Task : Create a list consisting of Fibonacci numbers from 1 to 55 using control flow statements.\n",
        "\n",
        "The desired output is like :\n",
        "\n",
        "fibonacci →  [1, 1, 2, 3, 5, 8, 13, 21, 34, 55]"
      ]
    },
    {
      "cell_type": "code",
      "metadata": {
        "colab": {
          "base_uri": "https://localhost:8080/"
        },
        "id": "6Rw1YA7-s23H",
        "outputId": "c4e2d656-f788-4cf4-92fc-0627b9cbf60c"
      },
      "source": [
        "listem = [1,1]\n",
        "for i in range(2,10):\n",
        "  fibo = listem[i-1] + listem[i-2]\n",
        "  listem.append(fibo)\n",
        "print(listem)"
      ],
      "execution_count": null,
      "outputs": [
        {
          "name": "stdout",
          "output_type": "stream",
          "text": [
            "[1, 1, 2, 3, 5, 8, 13, 21, 34, 55]\n"
          ]
        }
      ]
    },
    {
      "cell_type": "code",
      "metadata": {
        "colab": {
          "base_uri": "https://localhost:8080/"
        },
        "id": "fKap8sgHyfGc",
        "outputId": "1a45ef28-b991-44f8-c8e5-83a7cdc4aced"
      },
      "source": [
        "number = 0\n",
        "new_list=[1,1]\n",
        "while number < 55:\n",
        "    number = new_list[]  # ????\n",
        "    new_list.append(number)\n",
        "    \n",
        "print(new_list) "
      ],
      "execution_count": null,
      "outputs": [
        {
          "name": "stdout",
          "output_type": "stream",
          "text": [
            "[1, 2, 3, 4, 5, 6, 7, 8, 9, 10, 11, 12, 13, 14, 15, 16, 17, 18, 19, 20, 21, 22, 23, 24, 25, 26, 27, 28, 29, 30, 31, 32, 33, 34, 35, 36, 37, 38, 39, 40, 41, 42, 43, 44, 45, 46, 47, 48, 49, 50, 51, 52, 53, 54, 55]\n"
          ]
        }
      ]
    },
    {
      "cell_type": "code",
      "metadata": {
        "colab": {
          "background_save": true,
          "base_uri": "https://localhost:8080/"
        },
        "id": "1A0sKGfXzN-A",
        "outputId": "ec217acd-ca4c-49f0-fb50-7fa8cd53d18c"
      },
      "source": [
        "passcode = 1453\n",
        "counter = 0\n",
        "delay_time = 0\n",
        "your_passcode = input(\"Enter your passcode: \")\n",
        "\n",
        "while your_passcode != passcode:\n",
        "    your_passcode = input(\"Enter your passcode: \")\n",
        "    counter += counter\n",
        "    if counter <= 3:\n",
        "        print(\"Invalid passcode, try again\")\n",
        "        if counter <= 5:\n",
        "            delay_time += delay_time\n",
        "            print(\"wait for : \", delay_time)\n",
        "        elif counter <= 10:\n",
        "            delay_time += delay_time\n",
        "            print(\"wait for\", delay_time)\n",
        "        else:\n",
        "            print(\"Welcome\")1\n",
        "\n",
        "            "
      ],
      "execution_count": null,
      "outputs": [
        {
          "name": "stdout",
          "output_type": "stream",
          "text": [
            "Invalid passcode, try again\n",
            "wait for :  0\n",
            "Invalid passcode, try again\n",
            "wait for :  0\n",
            "Invalid passcode, try again\n",
            "wait for :  0\n",
            "Invalid passcode, try again\n",
            "wait for :  0\n",
            "Invalid passcode, try again\n",
            "wait for :  0\n",
            "Invalid passcode, try again\n",
            "wait for :  0\n",
            "Invalid passcode, try again\n",
            "wait for :  0\n",
            "Invalid passcode, try again\n",
            "wait for :  0\n",
            "Invalid passcode, try again\n",
            "wait for :  0\n",
            "Invalid passcode, try again\n",
            "wait for :  0\n",
            "Invalid passcode, try again\n",
            "wait for :  0\n",
            "Invalid passcode, try again\n",
            "wait for :  0\n",
            "Invalid passcode, try again\n",
            "wait for :  0\n",
            "Invalid passcode, try again\n",
            "wait for :  0\n",
            "Invalid passcode, try again\n",
            "wait for :  0\n"
          ]
        }
      ]
    },
    {
      "cell_type": "code",
      "metadata": {
        "id": "CwRv9qA0HwNW",
        "colab": {
          "base_uri": "https://localhost:8080/"
        },
        "outputId": "4e632375-8182-44d4-a2c3-30d4548e17e6"
      },
      "source": [
        "num = [1,1]\n",
        "for i in range(8):\n",
        "    num2 = num[i]+ num[i+1]\n",
        "    num.append(num2)\n",
        "print(num)"
      ],
      "execution_count": null,
      "outputs": [
        {
          "output_type": "stream",
          "name": "stdout",
          "text": [
            "[1, 1, 2, 3, 5, 8, 13, 21, 34, 55]\n"
          ]
        }
      ]
    },
    {
      "cell_type": "code",
      "metadata": {
        "colab": {
          "base_uri": "https://localhost:8080/"
        },
        "id": "gVELLYSG9yaP",
        "outputId": "2e0888bc-a031-47ce-e400-daed9073aeeb"
      },
      "source": [
        "u_i = (input(\"Pls enter numbers with a space between them\")).split()\n",
        "new_listem = []\n",
        "for i in u_i:\n",
        "  if int(i) < 100:\n",
        "    new_listem.append(i)\n",
        "print(new_listem)"
      ],
      "execution_count": null,
      "outputs": [
        {
          "output_type": "stream",
          "name": "stdout",
          "text": [
            "Pls enter numbers with a space between them2 123 21 21 24 99 55\n",
            "['2', '21', '21', '24', '99', '55']\n"
          ]
        }
      ]
    },
    {
      "cell_type": "code",
      "metadata": {
        "colab": {
          "base_uri": "https://localhost:8080/"
        },
        "id": "Ev8mgq73_ZRe",
        "outputId": "930e00af-3035-43db-d582-a4443c9c8b6c"
      },
      "source": [
        "noo = int(input(\"Pls enter a number and i will find its divisors:\"))\n",
        "divisors = []\n",
        "for i in range(1,noo+1):\n",
        "  if noo%i == 0:\n",
        "    divisors.append(i)\n",
        "print(divisors)\n"
      ],
      "execution_count": null,
      "outputs": [
        {
          "output_type": "stream",
          "name": "stdout",
          "text": [
            "Pls enter a number and i will find its divisors:12\n",
            "[1, 2, 3, 4, 6, 12]\n"
          ]
        }
      ]
    },
    {
      "cell_type": "code",
      "metadata": {
        "colab": {
          "base_uri": "https://localhost:8080/"
        },
        "id": "do1-6uysAE4e",
        "outputId": "9f4cea36-3947-4aa7-8d73-0946901fadad"
      },
      "source": [
        "a = input(\"Pls enter your numbers for 1st list: \").split()\n",
        "b = input(\"Pls enter your numbers for 2nd list: \").split()\n",
        "listem = []\n",
        "for i in a:\n",
        "  if i in b:\n",
        "    listem.append(i)\n",
        "print(set(listem))"
      ],
      "execution_count": null,
      "outputs": [
        {
          "output_type": "stream",
          "name": "stdout",
          "text": [
            "Pls enter your numbers for 1st list:1 2 3 11 22\n",
            "Pls enter your numbers for 2nd list1 2 3 1 22 \n",
            "{'2', '3', '22', '1'}\n"
          ]
        }
      ]
    },
    {
      "cell_type": "code",
      "metadata": {
        "colab": {
          "base_uri": "https://localhost:8080/",
          "height": 330
        },
        "id": "PDyMiCLmBYFW",
        "outputId": "25641ca1-eb24-4b61-9eff-ae5bf016e2df"
      },
      "source": [
        "import datetime\n",
        "today = datetime.date.today()\n",
        "\n",
        "def d_m_y_lived(year,month,day):\n",
        "  b_day =(year,month,day)\n",
        "  dayys = b_day - today\n",
        "\n",
        "  \n",
        "d_m_y_lived(2021,12,13)"
      ],
      "execution_count": null,
      "outputs": [
        {
          "output_type": "error",
          "ename": "TypeError",
          "evalue": "ignored",
          "traceback": [
            "\u001b[0;31m---------------------------------------------------------------------------\u001b[0m",
            "\u001b[0;31mTypeError\u001b[0m                                 Traceback (most recent call last)",
            "\u001b[0;32m<ipython-input-30-0526fbe6b95e>\u001b[0m in \u001b[0;36m<module>\u001b[0;34m()\u001b[0m\n\u001b[1;32m      7\u001b[0m \u001b[0;34m\u001b[0m\u001b[0m\n\u001b[1;32m      8\u001b[0m \u001b[0;34m\u001b[0m\u001b[0m\n\u001b[0;32m----> 9\u001b[0;31m \u001b[0md_m_y_lived\u001b[0m\u001b[0;34m(\u001b[0m\u001b[0;36m2021\u001b[0m\u001b[0;34m,\u001b[0m\u001b[0;36m12\u001b[0m\u001b[0;34m,\u001b[0m\u001b[0;36m13\u001b[0m\u001b[0;34m)\u001b[0m\u001b[0;34m\u001b[0m\u001b[0;34m\u001b[0m\u001b[0m\n\u001b[0m",
            "\u001b[0;32m<ipython-input-30-0526fbe6b95e>\u001b[0m in \u001b[0;36md_m_y_lived\u001b[0;34m(year, month, day)\u001b[0m\n\u001b[1;32m      4\u001b[0m \u001b[0;32mdef\u001b[0m \u001b[0md_m_y_lived\u001b[0m\u001b[0;34m(\u001b[0m\u001b[0myear\u001b[0m\u001b[0;34m,\u001b[0m\u001b[0mmonth\u001b[0m\u001b[0;34m,\u001b[0m\u001b[0mday\u001b[0m\u001b[0;34m)\u001b[0m\u001b[0;34m:\u001b[0m\u001b[0;34m\u001b[0m\u001b[0;34m\u001b[0m\u001b[0m\n\u001b[1;32m      5\u001b[0m   \u001b[0mb_day\u001b[0m \u001b[0;34m=\u001b[0m\u001b[0;34m(\u001b[0m\u001b[0myear\u001b[0m\u001b[0;34m,\u001b[0m\u001b[0mmonth\u001b[0m\u001b[0;34m,\u001b[0m\u001b[0mday\u001b[0m\u001b[0;34m)\u001b[0m\u001b[0;34m\u001b[0m\u001b[0;34m\u001b[0m\u001b[0m\n\u001b[0;32m----> 6\u001b[0;31m   \u001b[0mdayys\u001b[0m \u001b[0;34m=\u001b[0m \u001b[0mb_day\u001b[0m \u001b[0;34m-\u001b[0m \u001b[0mtoday\u001b[0m\u001b[0;34m\u001b[0m\u001b[0;34m\u001b[0m\u001b[0m\n\u001b[0m\u001b[1;32m      7\u001b[0m \u001b[0;34m\u001b[0m\u001b[0m\n\u001b[1;32m      8\u001b[0m \u001b[0;34m\u001b[0m\u001b[0m\n",
            "\u001b[0;31mTypeError\u001b[0m: unsupported operand type(s) for -: 'tuple' and 'datetime.date'"
          ]
        }
      ]
    },
    {
      "cell_type": "code",
      "metadata": {
        "id": "nyyBrxqkG2gN"
      },
      "source": [
        "# rock beats scissors\n",
        "# scissors cut paper\n",
        "# paper beat rock\n",
        "# ask make a choice\n",
        "# use if to check \n",
        "# use while loop to ask\n"
      ],
      "execution_count": null,
      "outputs": []
    },
    {
      "cell_type": "code",
      "metadata": {
        "colab": {
          "base_uri": "https://localhost:8080/"
        },
        "id": "R98tEopBgGXp",
        "outputId": "8a47141b-d50d-47f0-8b75-94b7bd964929"
      },
      "source": [
        "def name_age(name,age):\n",
        "  return name,age\n",
        "name_age(\"Yusuf\",32)"
      ],
      "execution_count": null,
      "outputs": [
        {
          "output_type": "execute_result",
          "data": {
            "text/plain": [
              "('Yusuf', 32)"
            ]
          },
          "metadata": {},
          "execution_count": 31
        }
      ]
    },
    {
      "cell_type": "code",
      "metadata": {
        "colab": {
          "base_uri": "https://localhost:8080/"
        },
        "id": "PlKIQGctgfW7",
        "outputId": "fab8421f-2591-4880-cf8f-c30604063ed2"
      },
      "source": [
        "def leng(a,b,c):\n",
        "  return len(a), len(b), len(c)\n",
        "leng(\"Yusuf\",\"Ben\",\"32\")"
      ],
      "execution_count": null,
      "outputs": [
        {
          "output_type": "execute_result",
          "data": {
            "text/plain": [
              "(5, 3, 2)"
            ]
          },
          "metadata": {},
          "execution_count": 35
        }
      ]
    },
    {
      "cell_type": "code",
      "metadata": {
        "colab": {
          "base_uri": "https://localhost:8080/"
        },
        "id": "mQS4FxD_hCJw",
        "outputId": "53d32fa2-0d46-41e1-d269-b8668f9037e3"
      },
      "source": [
        "def args(*args):\n",
        "  for i in args:\n",
        "    print(i)\n",
        "args(12,\"Yusuf\",True,3.11)"
      ],
      "execution_count": null,
      "outputs": [
        {
          "output_type": "stream",
          "name": "stdout",
          "text": [
            "12\n",
            "Yusuf\n",
            "True\n",
            "3.11\n"
          ]
        }
      ]
    },
    {
      "cell_type": "code",
      "metadata": {
        "colab": {
          "base_uri": "https://localhost:8080/"
        },
        "id": "wiwZTfz_horP",
        "outputId": "2126ed8e-7d19-4436-c707-5f0c3bf55b46"
      },
      "source": [
        "def calcul(a,b):\n",
        "  return a+b, a-b\n",
        "calcul(10,20)"
      ],
      "execution_count": null,
      "outputs": [
        {
          "output_type": "execute_result",
          "data": {
            "text/plain": [
              "(30, -10)"
            ]
          },
          "metadata": {},
          "execution_count": 37
        }
      ]
    },
    {
      "cell_type": "code",
      "metadata": {
        "colab": {
          "base_uri": "https://localhost:8080/"
        },
        "id": "xu2O7s9Ch8_9",
        "outputId": "d562d029-b6b7-485a-8a69-7a357686e217"
      },
      "source": [
        "def show_employee(name,salary=9000):\n",
        "  print(\"Name:\",name,\" Salary:\",salary)\n",
        "show_employee(\"Eric\", 12000)\n"
      ],
      "execution_count": null,
      "outputs": [
        {
          "output_type": "stream",
          "name": "stdout",
          "text": [
            "Name: Eric  Salary: 12000\n"
          ]
        }
      ]
    },
    {
      "cell_type": "code",
      "metadata": {
        "colab": {
          "base_uri": "https://localhost:8080/"
        },
        "id": "vADbu0E0i4Oo",
        "outputId": "cffa58bc-9526-4ea6-d898-315610db56a5"
      },
      "source": [
        "def outer_func(a,b):\n",
        "  def inner_func(a,b):\n",
        "    return a+b\n",
        "  return a+b+5\n",
        "\n",
        "outer_func(2,3)"
      ],
      "execution_count": null,
      "outputs": [
        {
          "output_type": "execute_result",
          "data": {
            "text/plain": [
              "10"
            ]
          },
          "metadata": {},
          "execution_count": 45
        }
      ]
    },
    {
      "cell_type": "code",
      "metadata": {
        "colab": {
          "base_uri": "https://localhost:8080/",
          "height": 133
        },
        "id": "CknNtJ8ijPIe",
        "outputId": "7436b04c-addd-4d67-f229-217f32480a85"
      },
      "source": [
        "def recursive_function(x):\n",
        "  x = for i in range(0,11):\n",
        "  "
      ],
      "execution_count": null,
      "outputs": [
        {
          "output_type": "error",
          "ename": "SyntaxError",
          "evalue": "ignored",
          "traceback": [
            "\u001b[0;36m  File \u001b[0;32m\"<ipython-input-46-9b3e2547cfb0>\"\u001b[0;36m, line \u001b[0;32m2\u001b[0m\n\u001b[0;31m    x = for i in range(0,11):\u001b[0m\n\u001b[0m          ^\u001b[0m\n\u001b[0;31mSyntaxError\u001b[0m\u001b[0;31m:\u001b[0m invalid syntax\n"
          ]
        }
      ]
    }
  ]
}