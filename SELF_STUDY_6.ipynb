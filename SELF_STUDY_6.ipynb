{
  "nbformat": 4,
  "nbformat_minor": 0,
  "metadata": {
    "colab": {
      "name": "SELF STUDY 6.ipynb",
      "provenance": [],
      "authorship_tag": "ABX9TyM0jD9X6vkz91I6EHkKIqAI",
      "include_colab_link": true
    },
    "kernelspec": {
      "name": "python3",
      "display_name": "Python 3"
    },
    "language_info": {
      "name": "python"
    }
  },
  "cells": [
    {
      "cell_type": "markdown",
      "metadata": {
        "id": "view-in-github",
        "colab_type": "text"
      },
      "source": [
        "<a href=\"https://colab.research.google.com/github/Yusuf5001/Python-/blob/main/SELF_STUDY_6.ipynb\" target=\"_parent\"><img src=\"https://colab.research.google.com/assets/colab-badge.svg\" alt=\"Open In Colab\"/></a>"
      ]
    },
    {
      "cell_type": "code",
      "metadata": {
        "colab": {
          "base_uri": "https://localhost:8080/"
        },
        "id": "IwV82wnHAnZd",
        "outputId": "5cf926c0-9f9c-4d61-bb45-05c183f5a240"
      },
      "source": [
        "price = \"ABCD\"\n",
        "if price <= \"abcd\":\n",
        "  print(\"ucuz\")\n",
        "else:\n",
        "  print(\"pahali\")"
      ],
      "execution_count": null,
      "outputs": [
        {
          "output_type": "stream",
          "name": "stdout",
          "text": [
            "ucuz\n"
          ]
        }
      ]
    },
    {
      "cell_type": "code",
      "metadata": {
        "id": "rUjtMNB3LeRT"
      },
      "source": [
        ""
      ],
      "execution_count": null,
      "outputs": []
    },
    {
      "cell_type": "code",
      "metadata": {
        "colab": {
          "base_uri": "https://localhost:8080/"
        },
        "id": "HLKs9LSJBcyV",
        "outputId": "4fdd500b-eedc-4817-e3a8-fe3a209593e5"
      },
      "source": [
        "a= []\n",
        "b = [a.append(i) for i in range(5)]\n",
        "print(b)"
      ],
      "execution_count": null,
      "outputs": [
        {
          "output_type": "stream",
          "name": "stdout",
          "text": [
            "[None, None, None, None, None]\n"
          ]
        }
      ]
    },
    {
      "cell_type": "code",
      "metadata": {
        "colab": {
          "base_uri": "https://localhost:8080/"
        },
        "id": "8jI0xx2OBckc",
        "outputId": "bbfd3b4f-38e7-44b1-e68d-4ba1fcbc3932"
      },
      "source": [
        "  condition = 66.3\n",
        "  while condition:\n",
        "    print(condition)\n",
        "    condition -=0.5\n",
        "    break\n",
        "  # sonsuz "
      ],
      "execution_count": null,
      "outputs": [
        {
          "output_type": "stream",
          "name": "stdout",
          "text": [
            "66.3\n"
          ]
        }
      ]
    },
    {
      "cell_type": "code",
      "metadata": {
        "colab": {
          "base_uri": "https://localhost:8080/"
        },
        "id": "okLG-1SUDnNF",
        "outputId": "c9f464d3-8de8-46e8-97b1-0087f2da7208"
      },
      "source": [
        "nomber = 0\n",
        "while nomber<6:\n",
        "  print(nomber)\n",
        "  nomber +=1\n",
        "print(\"already bigger than 6\")"
      ],
      "execution_count": null,
      "outputs": [
        {
          "output_type": "stream",
          "name": "stdout",
          "text": [
            "0\n",
            "1\n",
            "2\n",
            "3\n",
            "4\n",
            "5\n",
            "already bigger than 6\n"
          ]
        }
      ]
    },
    {
      "cell_type": "code",
      "metadata": {
        "colab": {
          "base_uri": "https://localhost:8080/"
        },
        "id": "MTpL2K4fGORz",
        "outputId": "e08a3dc9-9764-4b05-8145-4573613de50f"
      },
      "source": [
        "nomber = 0\n",
        "while nomber<6:\n",
        "  nomber +=1\n",
        "  print(nomber)\n",
        "print(\"already bigger than 6\")"
      ],
      "execution_count": null,
      "outputs": [
        {
          "output_type": "stream",
          "name": "stdout",
          "text": [
            "1\n",
            "2\n",
            "3\n",
            "4\n",
            "5\n",
            "6\n",
            "already bigger than 6\n"
          ]
        }
      ]
    },
    {
      "cell_type": "code",
      "metadata": {
        "colab": {
          "base_uri": "https://localhost:8080/"
        },
        "id": "FrWDHCDEGdjl",
        "outputId": "d704998d-ff94-495e-bac2-59e7c5302842"
      },
      "source": [
        "listem = [\"a\", \"b\", \"c\", \"d\"]\n",
        "a = 0\n",
        "while a < len(listem):\n",
        "  a +=1\n",
        "  print(f\"{a} square equals to {a**2}\")"
      ],
      "execution_count": null,
      "outputs": [
        {
          "output_type": "stream",
          "name": "stdout",
          "text": [
            "1 square equals to 1\n",
            "2 square equals to 4\n",
            "3 square equals to 9\n",
            "4 square equals to 16\n"
          ]
        }
      ]
    },
    {
      "cell_type": "code",
      "metadata": {
        "id": "W5u0IRZFjReT",
        "colab": {
          "base_uri": "https://localhost:8080/"
        },
        "outputId": "c30c50d2-0ce8-4be6-ab12-7d8cb1a5accf"
      },
      "source": [
        "from datetime import datetime\n",
        "\n",
        "def times():\n",
        "  print(datetime.today())\n",
        "times()"
      ],
      "execution_count": null,
      "outputs": [
        {
          "output_type": "stream",
          "name": "stdout",
          "text": [
            "2021-11-28 18:45:32.753995\n"
          ]
        }
      ]
    },
    {
      "cell_type": "code",
      "metadata": {
        "colab": {
          "base_uri": "https://localhost:8080/",
          "height": 71
        },
        "id": "Ui8HcZM23kJP",
        "outputId": "811e3ff6-0bda-4936-8573-ce12f108f653"
      },
      "source": [
        "def initials():\n",
        "  first = input(\"Pls enter your first name: \")\n",
        "  last = input(\"Pls enter your last name: \")\n",
        "  first = first[0]\n",
        "  last = last[0]\n",
        "  return first + last\n",
        "initials()"
      ],
      "execution_count": null,
      "outputs": [
        {
          "name": "stdout",
          "output_type": "stream",
          "text": [
            "Pls enter your first name: 21\n",
            "Pls enter your last name: 21\n"
          ]
        },
        {
          "output_type": "execute_result",
          "data": {
            "application/vnd.google.colaboratory.intrinsic+json": {
              "type": "string"
            },
            "text/plain": [
              "'22'"
            ]
          },
          "metadata": {},
          "execution_count": 23
        }
      ]
    },
    {
      "cell_type": "code",
      "metadata": {
        "colab": {
          "base_uri": "https://localhost:8080/"
        },
        "id": "URhsMDMtAGRb",
        "outputId": "b055bbc7-b4ca-4bba-aa64-b3acdce85f9b"
      },
      "source": [
        "girdi = list(map(int, input(\"enter a number\").split()))\n",
        "print(girdi)\n"
      ],
      "execution_count": null,
      "outputs": [
        {
          "output_type": "stream",
          "name": "stdout",
          "text": [
            "enter a number2 21 21 \n",
            "[2, 21, 21]\n"
          ]
        }
      ]
    },
    {
      "cell_type": "code",
      "metadata": {
        "colab": {
          "base_uri": "https://localhost:8080/"
        },
        "id": "uOhX2cNrBIlM",
        "outputId": "f6ac4ffe-f3f2-4a9b-da40-8018e8e289d6"
      },
      "source": [
        "girdi = input(\"enter a number: \").split()\n",
        "bos = []\n",
        "for i in girdi:\n",
        "  i = int(i)\n",
        "  bos.append(i)\n",
        "print(bos)"
      ],
      "execution_count": null,
      "outputs": [
        {
          "output_type": "stream",
          "name": "stdout",
          "text": [
            "enter a number: 2 321 321\n",
            "[2, 321, 321]\n"
          ]
        }
      ]
    },
    {
      "cell_type": "code",
      "metadata": {
        "colab": {
          "base_uri": "https://localhost:8080/"
        },
        "id": "CPHuE5zYCkyj",
        "outputId": "7ecdbfe4-7ff3-4c8b-cdc2-b6ad6c6eef69"
      },
      "source": [
        "def comparison(x):\n",
        "  counter = 0\n",
        "  longest = \"\"\n",
        "  for i in x:\n",
        "    if len(i)>counter:\n",
        "      counter = len(i)\n",
        "      longest = i\n",
        "  print(\"longest is \", longest)\n",
        "girdi = list(map(str, input(\"pls enter sentences: \").split()))\n",
        "comparison(girdi)"
      ],
      "execution_count": null,
      "outputs": [
        {
          "output_type": "stream",
          "name": "stdout",
          "text": [
            "enter a numberyusuf satilmis\n",
            "longest is  satilmis\n"
          ]
        }
      ]
    },
    {
      "cell_type": "code",
      "metadata": {
        "colab": {
          "base_uri": "https://localhost:8080/"
        },
        "id": "FEr_F9zmLbZc",
        "outputId": "fd3514d5-5e4c-4cb4-e2a6-52a45033c79e"
      },
      "source": [
        "def bird(etki, tuyler=\"puf\", action=\"cik cik\", renk=\"Leeds yesili\"):\n",
        "  print(\"asdasdsa\", etki, 21312321)\n",
        "  print(\"wqeqweq\",etki, \"edqwqw\")\n",
        "  print(\"qweqweqw\",renk)\n",
        "  print(\"qweqweqwe\",tuyler)\n",
        "bird(etki=\"kill\", renk=\"sari\")\n",
        "print()\n",
        "bird(\"qweq\", \"dqwe\", \"adawe\")"
      ],
      "execution_count": null,
      "outputs": [
        {
          "output_type": "stream",
          "name": "stdout",
          "text": [
            "asdasdsa kill 21312321\n",
            "wqeqweq kill edqwqw\n",
            "qweqweqw sari\n",
            "qweqweqwe puf\n",
            "\n",
            "asdasdsa qweq 21312321\n",
            "wqeqweq qweq edqwqw\n",
            "qweqweqw Leeds yesili\n",
            "qweqweqwe dqwe\n"
          ]
        }
      ]
    },
    {
      "cell_type": "code",
      "metadata": {
        "id": "WjH9H8cPMiZk"
      },
      "source": [
        "entry = input(\"pls enter a number:\")\n",
        "check = list(range(1,entry+1))\n",
        "for i in check:\n",
        "  if entry%i==0:\n",
        "     "
      ],
      "execution_count": null,
      "outputs": []
    },
    {
      "cell_type": "code",
      "metadata": {
        "colab": {
          "base_uri": "https://localhost:8080/"
        },
        "id": "BgNxLxWwLfi4",
        "outputId": "3e18698c-fc39-43e1-f8f2-1f6c98fd29f9"
      },
      "source": [
        "girdi  = input(\"pls enter a sentence:\")\n",
        "new = girdi.split()\n",
        "counter = 0\n",
        "longest = 0\n",
        "while counter < len(new):\n",
        "  a = new[counter]\n",
        "  counter +=1\n",
        "  if len(a) > longest:\n",
        "    longest = len(a)\n",
        "  else:\n",
        "    longest = longest\n",
        "print(longest)"
      ],
      "execution_count": null,
      "outputs": [
        {
          "output_type": "stream",
          "name": "stdout",
          "text": [
            "pls enter a sentenceben sen biz\n",
            "3\n"
          ]
        }
      ]
    },
    {
      "cell_type": "code",
      "metadata": {
        "colab": {
          "base_uri": "https://localhost:8080/"
        },
        "id": "XjSOPiOvMxx7",
        "outputId": "ee6dc48b-c6bd-4b6e-e6b3-2d775a0d75f6"
      },
      "source": [
        "liste = [1,2,3,4,5]\n",
        "bos = []\n",
        "i = 0\n",
        "while i <= len(liste):\n",
        "  bos.append(i)\n",
        "  i +=1\n",
        "print(bos)"
      ],
      "execution_count": null,
      "outputs": [
        {
          "output_type": "stream",
          "name": "stdout",
          "text": [
            "[0, 1, 2, 3, 4]\n"
          ]
        }
      ]
    },
    {
      "cell_type": "code",
      "metadata": {
        "colab": {
          "base_uri": "https://localhost:8080/"
        },
        "id": "AMg97IrKNUs4",
        "outputId": "6edf3dc9-3496-48f9-cde0-a9884441193d"
      },
      "source": [
        "liste = [1,2,3,4,5]\n",
        "bos = []\n",
        "i = 0\n",
        "while i < len(liste):\n",
        "  bos.append(liste[i])\n",
        "  i +=1\n",
        "print(bos)"
      ],
      "execution_count": null,
      "outputs": [
        {
          "output_type": "stream",
          "name": "stdout",
          "text": [
            "[1, 2, 3, 4, 5]\n"
          ]
        }
      ]
    },
    {
      "cell_type": "code",
      "metadata": {
        "colab": {
          "base_uri": "https://localhost:8080/"
        },
        "id": "csnEF3doNZLj",
        "outputId": "b431d729-d834-4270-d7ec-7478620c31dc"
      },
      "source": [
        "girdi = input(\"pls enter a word\")\n",
        "bos = []\n",
        "for i in girdi:\n",
        "  bos.append(i)\n",
        "  bos.append(\"#\")\n",
        "a = \"\".join(bos)\n",
        "print(a.strip(\"#\"))"
      ],
      "execution_count": null,
      "outputs": [
        {
          "output_type": "stream",
          "name": "stdout",
          "text": [
            "pls enter a wordankara\n",
            "a#n#k#a#r#a\n"
          ]
        }
      ]
    },
    {
      "cell_type": "code",
      "metadata": {
        "colab": {
          "base_uri": "https://localhost:8080/"
        },
        "id": "Q7m2rdTsPrFS",
        "outputId": "5c68a0d0-9637-4b51-fc5d-23f383121560"
      },
      "source": [
        "girdi = input(\"pls enter a word:\")\n",
        "counter = 0\n",
        "for i in girdi:\n",
        "  counter +=1\n",
        "  if counter < len(girdi):\n",
        "    print(i, end=\"#\")\n",
        "  else:\n",
        "    print(i)"
      ],
      "execution_count": null,
      "outputs": [
        {
          "output_type": "stream",
          "name": "stdout",
          "text": [
            "pls enter a word:mememe\n",
            "m#e#m#e#m#e\n"
          ]
        }
      ]
    },
    {
      "cell_type": "code",
      "metadata": {
        "colab": {
          "base_uri": "https://localhost:8080/"
        },
        "id": "x33mnUWLQbrs",
        "outputId": "3d17f5c7-36d6-4b49-b289-a1de30514d2c"
      },
      "source": [
        "dictim = {\"name\":\"Yusuf\", \"surname\":\"Satilmis\", \"age\":32}\n",
        "for i in dictim.values():\n",
        "  print(i)"
      ],
      "execution_count": null,
      "outputs": [
        {
          "output_type": "stream",
          "name": "stdout",
          "text": [
            "Yusuf\n",
            "Satilmis\n",
            "32\n"
          ]
        }
      ]
    },
    {
      "cell_type": "code",
      "metadata": {
        "colab": {
          "base_uri": "https://localhost:8080/"
        },
        "id": "_xK22xUhRLdO",
        "outputId": "10b44390-89be-4385-8d99-281ef409f29f"
      },
      "source": [
        "dictim = {\n",
        "    \"name\":\"Yusuf\", \n",
        "    \"surname\":\"Satilmis\", \n",
        "    \"age\":32\n",
        "    }\n",
        "\n",
        "for i in dictim.items():\n",
        "  print(i)\n",
        "  print(type(i))"
      ],
      "execution_count": null,
      "outputs": [
        {
          "output_type": "stream",
          "name": "stdout",
          "text": [
            "('name', 'Yusuf')\n",
            "<class 'tuple'>\n",
            "('surname', 'Satilmis')\n",
            "<class 'tuple'>\n",
            "('age', 32)\n",
            "<class 'tuple'>\n"
          ]
        }
      ]
    },
    {
      "cell_type": "code",
      "metadata": {
        "colab": {
          "base_uri": "https://localhost:8080/"
        },
        "id": "qQVLAkZLRs_d",
        "outputId": "a62de172-7113-4e16-a3c3-be1ea4e7bb74"
      },
      "source": [
        "dictim = {\n",
        "    \"name\":\"Yusuf\", \n",
        "    (\"surname\",):\"Satilmis\", \n",
        "    \"age\":32\n",
        "    }\n",
        "\n",
        "for i,j in dictim.items():\n",
        "  print(i,j)\n",
        "  print(type(i), type(j))"
      ],
      "execution_count": null,
      "outputs": [
        {
          "output_type": "stream",
          "name": "stdout",
          "text": [
            "name Yusuf\n",
            "<class 'str'> <class 'str'>\n",
            "('surname',) Satilmis\n",
            "<class 'tuple'> <class 'str'>\n",
            "age 32\n",
            "<class 'str'> <class 'int'>\n"
          ]
        }
      ]
    },
    {
      "cell_type": "code",
      "metadata": {
        "colab": {
          "base_uri": "https://localhost:8080/"
        },
        "id": "chSAFlXZcvc_",
        "outputId": "607f1c3e-070f-4301-d78d-6b95c0254b4d"
      },
      "source": [
        "girdi = list(map(str,input(\"Pls enter name and surname: \").split()))\n",
        "\n",
        "name = []\n",
        "surname = []\n",
        " \n",
        "counter = 0\n",
        "database = []\n",
        "for i in girdi:\n",
        "  if counter%2 == 0:\n",
        "    i = [i]\n",
        "    name.append(i)\n",
        "  else:\n",
        "    i=[i]\n",
        "    surname.append(i)\n",
        "  counter +=1\n",
        "print(name)\n",
        "print(surname)\n",
        "for i,j in zip(name,surname):\n",
        "  zipp = dict(zip(i,j))\n",
        "  database.append(zipp)\n",
        "print(database)\n"
      ],
      "execution_count": null,
      "outputs": [
        {
          "output_type": "stream",
          "name": "stdout",
          "text": [
            "Pls enter name and surname: yusuf sat\n",
            "[['yusuf']]\n",
            "[['sat']]\n",
            "[{'yusuf': 'sat'}]\n"
          ]
        }
      ]
    },
    {
      "cell_type": "code",
      "metadata": {
        "id": "tYR_dx_oiU-m"
      },
      "source": [
        ""
      ],
      "execution_count": null,
      "outputs": []
    },
    {
      "cell_type": "code",
      "metadata": {
        "colab": {
          "base_uri": "https://localhost:8080/"
        },
        "id": "UAkDDvCtiU0Q",
        "outputId": "6969f847-5e19-402c-a851-e90f18604f8d"
      },
      "source": [
        "girdi = list(map(str,input(\"Pls enter name and surname: \").split()))\n",
        "\n",
        "name = []\n",
        "surname = []\n",
        " \n",
        "counter = 0\n",
        "database = []\n",
        "for i in girdi:\n",
        "  if counter%2 == 0:\n",
        "    i = [i]\n",
        "    name.append(i)\n",
        "  else:\n",
        "    i=[i]\n",
        "    surname.append(i)\n",
        "  counter +=1\n",
        "print(name)\n",
        "print(surname)\n",
        "#for i,j in zip(name,surname):\n",
        "\n",
        "#database.append(zipp)\n",
        "zipp = list(zip(name,surname))\n",
        "print(zipp)\n"
      ],
      "execution_count": null,
      "outputs": [
        {
          "output_type": "stream",
          "name": "stdout",
          "text": [
            "Pls enter name and surname: yusuf sat\n",
            "[['yusuf']]\n",
            "[['sat']]\n",
            "[(['yusuf'], ['sat'])]\n"
          ]
        }
      ]
    },
    {
      "cell_type": "code",
      "metadata": {
        "colab": {
          "base_uri": "https://localhost:8080/"
        },
        "id": "ez1_lu_3fK2o",
        "outputId": "e8f436f0-a1a5-4b3a-b0cf-f893244d3189"
      },
      "source": [
        "a = list(map(str,\"yusuf satilmis\"))\n",
        "print(a)"
      ],
      "execution_count": null,
      "outputs": [
        {
          "output_type": "stream",
          "name": "stdout",
          "text": [
            "['y', 'u', 's', 'u', 'f', ' ', 's', 'a', 't', 'i', 'l', 'm', 'i', 's']\n"
          ]
        }
      ]
    },
    {
      "cell_type": "code",
      "metadata": {
        "colab": {
          "base_uri": "https://localhost:8080/"
        },
        "id": "EjVrFsxJfPn3",
        "outputId": "a3784c81-83a6-4e2a-8e55-55377546ec0b"
      },
      "source": [
        "a = list(map(str,\"yusuf satilmis\".split()))\n",
        "print(a)\n",
        "bos = []\n",
        "for i in a:\n",
        "  i = [i]\n",
        "  bos.append(i)\n",
        "print(bos[0])"
      ],
      "execution_count": null,
      "outputs": [
        {
          "output_type": "stream",
          "name": "stdout",
          "text": [
            "['yusuf', 'satilmis']\n",
            "['yusuf']\n"
          ]
        }
      ]
    },
    {
      "cell_type": "code",
      "metadata": {
        "colab": {
          "base_uri": "https://localhost:8080/"
        },
        "id": "Z0ccVskUjmrW",
        "outputId": "fb9f4bd9-1372-41fd-d12d-46b8fea12591"
      },
      "source": [
        "liste = [(\"a\",\"b\"), (\"c\",\"d\")]\n",
        "for x,y in liste:\n",
        "  print(x,y)\n",
        "  print(type(x),type(y))"
      ],
      "execution_count": null,
      "outputs": [
        {
          "output_type": "stream",
          "name": "stdout",
          "text": [
            "a b\n",
            "<class 'str'> <class 'str'>\n",
            "c d\n",
            "<class 'str'> <class 'str'>\n"
          ]
        }
      ]
    },
    {
      "cell_type": "code",
      "metadata": {
        "colab": {
          "base_uri": "https://localhost:8080/"
        },
        "id": "n-Kho5yAj4zd",
        "outputId": "8465a9c9-7949-4fab-ad50-937c5da7aab7"
      },
      "source": [
        "liste = [(\"a\",\"b\"), (\"c\",\"d\")]\n",
        "for x in liste:\n",
        "  print(x)\n",
        "  print(type(x),type(y))"
      ],
      "execution_count": null,
      "outputs": [
        {
          "output_type": "stream",
          "name": "stdout",
          "text": [
            "('a', 'b')\n",
            "<class 'tuple'> <class 'str'>\n",
            "('c', 'd')\n",
            "<class 'tuple'> <class 'str'>\n"
          ]
        }
      ]
    },
    {
      "cell_type": "code",
      "metadata": {
        "colab": {
          "base_uri": "https://localhost:8080/",
          "height": 223
        },
        "id": "LOY2C44LkNeT",
        "outputId": "a8e13683-3d2b-428e-ac53-3f57d3b56ceb"
      },
      "source": [
        "liste = [{\"a\":\"b\"}, {\"c\":\"d\"}]\n",
        "for x,y in liste:\n",
        "  print(x,y)\n",
        "  print(type(x),type(y))"
      ],
      "execution_count": null,
      "outputs": [
        {
          "output_type": "error",
          "ename": "ValueError",
          "evalue": "ignored",
          "traceback": [
            "\u001b[0;31m---------------------------------------------------------------------------\u001b[0m",
            "\u001b[0;31mValueError\u001b[0m                                Traceback (most recent call last)",
            "\u001b[0;32m<ipython-input-46-d23f14c5e2d7>\u001b[0m in \u001b[0;36m<module>\u001b[0;34m()\u001b[0m\n\u001b[1;32m      1\u001b[0m \u001b[0mliste\u001b[0m \u001b[0;34m=\u001b[0m \u001b[0;34m[\u001b[0m\u001b[0;34m{\u001b[0m\u001b[0;34m\"a\"\u001b[0m\u001b[0;34m:\u001b[0m\u001b[0;34m\"b\"\u001b[0m\u001b[0;34m}\u001b[0m\u001b[0;34m,\u001b[0m \u001b[0;34m{\u001b[0m\u001b[0;34m\"c\"\u001b[0m\u001b[0;34m:\u001b[0m\u001b[0;34m\"d\"\u001b[0m\u001b[0;34m}\u001b[0m\u001b[0;34m]\u001b[0m\u001b[0;34m\u001b[0m\u001b[0;34m\u001b[0m\u001b[0m\n\u001b[0;32m----> 2\u001b[0;31m \u001b[0;32mfor\u001b[0m \u001b[0mx\u001b[0m\u001b[0;34m,\u001b[0m\u001b[0my\u001b[0m \u001b[0;32min\u001b[0m \u001b[0mliste\u001b[0m\u001b[0;34m:\u001b[0m\u001b[0;34m\u001b[0m\u001b[0;34m\u001b[0m\u001b[0m\n\u001b[0m\u001b[1;32m      3\u001b[0m   \u001b[0mprint\u001b[0m\u001b[0;34m(\u001b[0m\u001b[0mx\u001b[0m\u001b[0;34m,\u001b[0m\u001b[0my\u001b[0m\u001b[0;34m)\u001b[0m\u001b[0;34m\u001b[0m\u001b[0;34m\u001b[0m\u001b[0m\n\u001b[1;32m      4\u001b[0m   \u001b[0mprint\u001b[0m\u001b[0;34m(\u001b[0m\u001b[0mtype\u001b[0m\u001b[0;34m(\u001b[0m\u001b[0mx\u001b[0m\u001b[0;34m)\u001b[0m\u001b[0;34m,\u001b[0m\u001b[0mtype\u001b[0m\u001b[0;34m(\u001b[0m\u001b[0my\u001b[0m\u001b[0;34m)\u001b[0m\u001b[0;34m)\u001b[0m\u001b[0;34m\u001b[0m\u001b[0;34m\u001b[0m\u001b[0m\n",
            "\u001b[0;31mValueError\u001b[0m: not enough values to unpack (expected 2, got 1)"
          ]
        }
      ]
    },
    {
      "cell_type": "code",
      "metadata": {
        "colab": {
          "base_uri": "https://localhost:8080/"
        },
        "id": "1hRtIrPktuUM",
        "outputId": "268bf71b-80a1-4d47-f1ba-6259ef812950"
      },
      "source": [
        "listem = []\n",
        "for i in range(2,101):\n",
        "  itsprime = True\n",
        "  for x in range(2,i):\n",
        "    if i%x ==0:\n",
        "       itsprime = False\n",
        "  if itsprime:\n",
        "    listem.append(i)\n",
        "print(listem)"
      ],
      "execution_count": null,
      "outputs": [
        {
          "output_type": "stream",
          "name": "stdout",
          "text": [
            "[2, 3, 5, 7, 11, 13, 17, 19, 23, 29, 31, 37, 41, 43, 47, 53, 59, 61, 67, 71, 73, 79, 83, 89, 97]\n"
          ]
        }
      ]
    },
    {
      "cell_type": "code",
      "metadata": {
        "colab": {
          "base_uri": "https://localhost:8080/"
        },
        "id": "vJKzlse5yVum",
        "outputId": "90f94692-1f70-4374-98d4-ebf94fd28bec"
      },
      "source": [
        "def fruiterer(*fruit) :\n",
        "    print('I want to get :')\n",
        "    for i in fruit :\n",
        "        print('-', i)\n",
        "        \n",
        "fruiterer('orange', 'banana', 'melon', 'ananas')"
      ],
      "execution_count": null,
      "outputs": [
        {
          "output_type": "stream",
          "name": "stdout",
          "text": [
            "I want to get :\n",
            "- orange\n",
            "- banana\n",
            "- melon\n",
            "- ananas\n"
          ]
        }
      ]
    },
    {
      "cell_type": "code",
      "metadata": {
        "colab": {
          "base_uri": "https://localhost:8080/"
        },
        "id": "ruE_e4HLycHO",
        "outputId": "5a839e8e-c54b-4ca6-cc62-79132678a6b1"
      },
      "source": [
        "def animals(**kwargs):\n",
        "    for key, value in kwargs.items():\n",
        "        print(value, \"are\", key)\n",
        " \n",
        "animals(Carnivores=\"Lions\", Omnivores=\"Bears\", Herbivores=\"Deers\", Nomnivores=\"Human\")"
      ],
      "execution_count": null,
      "outputs": [
        {
          "output_type": "stream",
          "name": "stdout",
          "text": [
            "Lions are Carnivores\n",
            "Bears are Omnivores\n",
            "Deers are Herbivores\n",
            "Human are Nomnivores\n"
          ]
        }
      ]
    },
    {
      "cell_type": "code",
      "metadata": {
        "colab": {
          "base_uri": "https://localhost:8080/"
        },
        "id": "u9ftMWiUyt1_",
        "outputId": "bf531d9d-aaa5-4645-f990-8f0b326f58ef"
      },
      "source": [
        "def brothers(bro1, bro2, bro3):\n",
        "    print('Here are the names of brothers :')\n",
        "    print(bro1, bro2, bro3, sep='\\n')\n",
        "\n",
        "family = ['tom', 'sue', 'tim']\n",
        "brothers(*family)"
      ],
      "execution_count": null,
      "outputs": [
        {
          "output_type": "stream",
          "name": "stdout",
          "text": [
            "Here are the names of brothers :\n",
            "tom\n",
            "sue\n",
            "tim\n"
          ]
        }
      ]
    },
    {
      "cell_type": "code",
      "metadata": {
        "colab": {
          "base_uri": "https://localhost:8080/"
        },
        "id": "P1o_DJony4H4",
        "outputId": "597147ed-ff2f-4b6e-e05c-94559da6e256"
      },
      "source": [
        "def gene(x, y,z):  # defined by positional args\n",
        "    print(x, \"belongs to Generation X\")\n",
        "    print(y, \"belongs to Generation Y\")\n",
        "    print(z, \"belongs to Generation Z\")\n",
        "\n",
        "dict_gene = {'y' : \"Marry\", 'x' : \"Fred\", \"z\":\"Max\"}\n",
        "gene(**dict_gene)  # we call the function by a single argument(variable)"
      ],
      "execution_count": null,
      "outputs": [
        {
          "output_type": "stream",
          "name": "stdout",
          "text": [
            "Fred belongs to Generation X\n",
            "Marry belongs to Generation Y\n",
            "Max belongs to Generation Z\n"
          ]
        }
      ]
    },
    {
      "cell_type": "code",
      "metadata": {
        "colab": {
          "base_uri": "https://localhost:8080/"
        },
        "id": "_IzaqUogOcAR",
        "outputId": "67d54e0a-9978-4d17-8c46-011052bce287"
      },
      "source": [
        "(lambda x,y: x+y) (2,1)"
      ],
      "execution_count": null,
      "outputs": [
        {
          "output_type": "execute_result",
          "data": {
            "text/plain": [
              "3"
            ]
          },
          "metadata": {},
          "execution_count": 1
        }
      ]
    },
    {
      "cell_type": "code",
      "metadata": {
        "colab": {
          "base_uri": "https://localhost:8080/"
        },
        "id": "BwayxdVgO8t6",
        "outputId": "7fa4ffc0-91b4-4a17-c6e5-17d18fadbb15"
      },
      "source": [
        "echo_word = (lambda x,y: x*y)\n",
        "print(echo_word('hello', 3))"
      ],
      "execution_count": null,
      "outputs": [
        {
          "output_type": "stream",
          "name": "stdout",
          "text": [
            "hellohellohello\n"
          ]
        }
      ]
    },
    {
      "cell_type": "code",
      "metadata": {
        "colab": {
          "base_uri": "https://localhost:8080/"
        },
        "id": "Z1C1iGckP0oA",
        "outputId": "2f96a6ba-b79b-464f-a1b5-dca5a4cc4563"
      },
      "source": [
        "iterable = [1, 2, 3, 4, 5]\n",
        "map(lambda x:x**2, iterable)\n",
        "result = map(lambda x:x**2, iterable)\n",
        "print(type(result))  # it's a map type\n",
        "\n",
        "print(list(result))  # we've converted it to list type to print\n",
        "\n",
        "print(list(map(lambda x:x**2, iterable)))  # you can print directly"
      ],
      "execution_count": null,
      "outputs": [
        {
          "output_type": "stream",
          "name": "stdout",
          "text": [
            "<class 'map'>\n",
            "[1, 4, 9, 16, 25]\n",
            "[1, 4, 9, 16, 25]\n"
          ]
        }
      ]
    },
    {
      "cell_type": "code",
      "metadata": {
        "colab": {
          "base_uri": "https://localhost:8080/"
        },
        "id": "ASym5orzQJ3_",
        "outputId": "5af31adf-bee9-45b1-e4a8-831301a95678"
      },
      "source": [
        "def square(n):\n",
        "  return n**2\n",
        "a = [1,2,3,4,5]\n",
        "result = map(square,a)\n",
        "print(list(result))"
      ],
      "execution_count": null,
      "outputs": [
        {
          "output_type": "stream",
          "name": "stdout",
          "text": [
            "[1, 4, 9, 16, 25]\n"
          ]
        }
      ]
    },
    {
      "cell_type": "code",
      "metadata": {
        "colab": {
          "base_uri": "https://localhost:8080/"
        },
        "id": "GLgR-1xKQuGb",
        "outputId": "5d36e1d8-54f4-4efb-c04a-9adb7ea241a1"
      },
      "source": [
        "letter1 = ['o', 's', 't', 't']\n",
        "letter2 = ['n', 'i', 'e', 'w']\n",
        "letter3 = ['e', 'x', 'n', 'o']\n",
        "numbers = map(lambda x,y,z:x+y+z,letter1,letter2,letter3)\n",
        "print(tuple(numbers))"
      ],
      "execution_count": null,
      "outputs": [
        {
          "output_type": "stream",
          "name": "stdout",
          "text": [
            "('one', 'six', 'ten', 'two')\n"
          ]
        }
      ]
    },
    {
      "cell_type": "code",
      "metadata": {
        "colab": {
          "base_uri": "https://localhost:8080/"
        },
        "id": "0ZGIv7DMRIz2",
        "outputId": "5e27ed75-37a1-4ebf-db86-09094c637fc3"
      },
      "source": [
        "word1 = [\"l\",\"m\"]\n",
        "word2 = [\"f\",\"c\"]\n",
        "word3 = [\"c\",\"t\"]\n",
        "takim = map(lambda a,b,c:a+b+c, word1,word2,word3)\n",
        "print(list(takim))"
      ],
      "execution_count": null,
      "outputs": [
        {
          "output_type": "stream",
          "name": "stdout",
          "text": [
            "['lfc', 'mct']\n"
          ]
        }
      ]
    },
    {
      "cell_type": "code",
      "metadata": {
        "colab": {
          "base_uri": "https://localhost:8080/"
        },
        "id": "1GSzBw_cSDeL",
        "outputId": "7c036418-1ec5-434d-951b-9a97ce79ad05"
      },
      "source": [
        "number_list = [1, 2, 3, 4, 5]\n",
        "\n",
        "result = list(map(lambda x: x*3,number_list))\n",
        "print(result)"
      ],
      "execution_count": null,
      "outputs": [
        {
          "output_type": "stream",
          "name": "stdout",
          "text": [
            "[3, 6, 9, 12, 15]\n"
          ]
        }
      ]
    },
    {
      "cell_type": "code",
      "metadata": {
        "colab": {
          "base_uri": "https://localhost:8080/"
        },
        "id": "UHWGRF61EB-0",
        "outputId": "cd5a5da7-b5a3-4ac5-f5f0-8251d357996a"
      },
      "source": [
        "first_ten = [0, 1, 2, 3, 4, 5, 6, 7, 8, 9] \n",
        "even = filter(lambda x:x%2==0,first_ten)\n",
        "print(list(even))"
      ],
      "execution_count": null,
      "outputs": [
        {
          "output_type": "stream",
          "name": "stdout",
          "text": [
            "[0, 2, 4, 6, 8]\n"
          ]
        }
      ]
    },
    {
      "cell_type": "code",
      "metadata": {
        "colab": {
          "base_uri": "https://localhost:8080/"
        },
        "id": "7dLndfwfEn0a",
        "outputId": "2b846df4-e02a-4780-9fac-03c31d976453"
      },
      "source": [
        "vowel_list = ['a', 'e', 'i', 'o', 'u']\n",
        "first_ten = ['a', 'b', 'c', 'd', 'e', 'f', 'g', 'h', 'i', 'j']\n",
        "vowels = filter(lambda x: True if x in vowel_list else False,first_ten)\n",
        "print(tuple(vowels))"
      ],
      "execution_count": null,
      "outputs": [
        {
          "output_type": "stream",
          "name": "stdout",
          "text": [
            "('a', 'e', 'i')\n"
          ]
        }
      ]
    },
    {
      "cell_type": "code",
      "metadata": {
        "colab": {
          "base_uri": "https://localhost:8080/"
        },
        "id": "-4KfVQ7AFHyi",
        "outputId": "599b367f-5f5b-4dbc-de90-e12c08bed42d"
      },
      "source": [
        "number_list = [1, 2, 3, 4, 5, 6, 7, 8, 9, 10]\n",
        "\n",
        "result = filter(lambda x: x <=6, number_list)\n",
        "print(list(result))  \n"
      ],
      "execution_count": null,
      "outputs": [
        {
          "output_type": "stream",
          "name": "stdout",
          "text": [
            "[1, 2, 3, 4, 5, 6]\n"
          ]
        }
      ]
    },
    {
      "cell_type": "code",
      "metadata": {
        "colab": {
          "base_uri": "https://localhost:8080/"
        },
        "id": "q-I8wg2GGaPE",
        "outputId": "490519cb-5616-48ca-f9ec-f8cdd70d9681"
      },
      "source": [
        "def repeater(n):\n",
        "    return lambda x: x * n\n",
        "    \n",
        "repeat_2_times = repeater(2)  # repeats 2 times\n",
        "repeat_3_times = repeater(3)  # repeats 3 times\n",
        "repeat_4_times = repeater(4)  # repeats 4 times\n",
        "\n",
        "print(repeat_2_times('alex '))\n",
        "print(repeat_3_times('lara '))\n",
        "print(repeat_4_times('linda '))\n"
      ],
      "execution_count": null,
      "outputs": [
        {
          "output_type": "stream",
          "name": "stdout",
          "text": [
            "alex alex \n",
            "lara lara lara \n",
            "linda linda linda linda \n"
          ]
        }
      ]
    }
  ]
}