{
  "nbformat": 4,
  "nbformat_minor": 0,
  "metadata": {
    "colab": {
      "name": "OOP.ipynb",
      "provenance": [],
      "authorship_tag": "ABX9TyNB//MeErfXaYvuWieO6d3K",
      "include_colab_link": true
    },
    "kernelspec": {
      "name": "python3",
      "display_name": "Python 3"
    },
    "language_info": {
      "name": "python"
    }
  },
  "cells": [
    {
      "cell_type": "markdown",
      "metadata": {
        "id": "view-in-github",
        "colab_type": "text"
      },
      "source": [
        "<a href=\"https://colab.research.google.com/github/Yusuf5001/Python-/blob/main/OOP.ipynb\" target=\"_parent\"><img src=\"https://colab.research.google.com/assets/colab-badge.svg\" alt=\"Open In Colab\"/></a>"
      ]
    },
    {
      "cell_type": "code",
      "execution_count": 10,
      "metadata": {
        "colab": {
          "base_uri": "https://localhost:8080/"
        },
        "id": "CcDI0VEvu1b9",
        "outputId": "66fcbaef-1936-4c33-c33e-efb877fb24be"
      },
      "outputs": [
        {
          "output_type": "stream",
          "name": "stdout",
          "text": [
            "Jose.Limen@mycompany.com\n",
            "Jiso.Lemin@mycompany.com\n",
            "Jose Limen\n",
            "Jiso Lemin\n"
          ]
        }
      ],
      "source": [
        "class Employee:\n",
        "  def __init__(self,first,last,pay):\n",
        "    self.first = first\n",
        "    self.last = last\n",
        "    self.pay = pay\n",
        "    self.email = first + \".\" + last + \"@mycompany.com\"\n",
        "  def fullname(self):\n",
        "    return \"{} {}\".format(self.first, self.last)\n",
        "\n",
        "\n",
        "emp_1 = Employee(\"Jose\", \"Limen\", 50000)\n",
        "emp_2 = Employee(\"Jiso\", \"Lemin\", 60000)\n",
        "\n",
        "#print(emp_1)\n",
        "#print(emp)\n",
        "\n",
        "print(emp_1.email)\n",
        "print(emp_2.email)\n",
        "\n",
        "emp_1.fullname()\n",
        "Employee.fullname(emp_1)\n",
        "\n",
        "#print(emp_1.fullname())\n",
        "#print(emp_2.fullname())"
      ]
    },
    {
      "cell_type": "code",
      "source": [
        "class Employee:\n",
        "  num_of_emps = 0\n",
        "  raise_amount = 1.04\n",
        "  def __init__(self,first,last,pay):\n",
        "    self.first = first\n",
        "    self.last = last\n",
        "    self.pay = pay\n",
        "    self.email = first + \".\" + last + \"@mycompany.com\"\n",
        "    Employee.num_of_emps +=1\n",
        "  def fullname(self):\n",
        "    return \"{} {}\".format(self.first, self.last)\n",
        " \n",
        "  def apply_raise(self):\n",
        "    self.pay = int(self.pay* Employee.raise_amountraise_amount)\n",
        "\n",
        "\n",
        "emp_1 = Employee(\"Jose\", \"Limen\", 50000)\n",
        "emp_2 = Employee(\"Jiso\", \"Lemin\", 60000)\n",
        "\n",
        "#print(emp_1.__dict__)\n",
        "#print(Employee.__dict__)\n",
        "#Employee.raise_amount = 1.05\n",
        "emp_1.raise_amount =1.05\n",
        "\n",
        "print(Employee.raise_amount)\n",
        "print(emp_1.raise_amount)\n",
        "print(emp_2.raise_amount)"
      ],
      "metadata": {
        "colab": {
          "base_uri": "https://localhost:8080/"
        },
        "id": "7KoFJ-yqzaFK",
        "outputId": "abed13f5-d4c0-4a2c-eb4f-52372e85347b"
      },
      "execution_count": 16,
      "outputs": [
        {
          "output_type": "stream",
          "name": "stdout",
          "text": [
            "1.04\n",
            "1.05\n",
            "1.04\n"
          ]
        }
      ]
    },
    {
      "cell_type": "code",
      "source": [
        "class Employee:\n",
        "  num_of_emps = 0\n",
        "  raise_amount = 1.04\n",
        "  def __init__(self,first,last,pay):\n",
        "    self.first = first\n",
        "    self.last = last\n",
        "    self.pay = pay\n",
        "    self.email = first + \".\" + last + \"@mycompany.com\"\n",
        "    Employee.num_of_emps +=1\n",
        "  def fullname(self):\n",
        "    return \"{} {}\".format(self.first, self.last)\n",
        " \n",
        "  def apply_raise(self):\n",
        "    self.pay = int(self.pay* Employee.raise_amountraise_amount)\n",
        "\n",
        "\n",
        "emp_1 = Employee(\"Jose\", \"Limen\", 50000)\n",
        "emp_2 = Employee(\"Jiso\", \"Lemin\", 60000)\n",
        "\n",
        "print(Employee.num_of_emps)"
      ],
      "metadata": {
        "colab": {
          "base_uri": "https://localhost:8080/"
        },
        "id": "U0oOCw1z1sDd",
        "outputId": "5016f87f-1a15-4212-8b0b-4c19847ce087"
      },
      "execution_count": 17,
      "outputs": [
        {
          "output_type": "stream",
          "name": "stdout",
          "text": [
            "2\n"
          ]
        }
      ]
    },
    {
      "cell_type": "code",
      "source": [
        "class Employee:\n",
        "  num_of_emps = 0\n",
        "  raise_amount = 1.04\n",
        "  def __init__(self,first,last,pay):\n",
        "    self.first = first\n",
        "    self.last = last\n",
        "    self.pay = pay\n",
        "    self.email = first + \".\" + last + \"@mycompany.com\"\n",
        "    Employee.num_of_emps +=1\n",
        "\n",
        "\n",
        "  def fullname(self):\n",
        "    return \"{} {}\".format(self.first, self.last)\n",
        " \n",
        "  def apply_raise(self):\n",
        "    self.pay = int(self.pay* Employee.raise_amountraise_amount)\n",
        "  \n",
        "\n",
        "  @classmethod\n",
        "  def set_raise_amt(cls,amount):\n",
        "    cls.raise_amt = amount\n",
        "\n",
        "  @classmethod\n",
        "  def from_string(cls, emp_str):\n",
        "    first, last, pay = emp_str.split(\"-\")\n",
        "    return cls(first,last,pay)\n",
        "\n",
        "\n",
        "emp_1 = Employee(\"Jose\", \"Limen\", 50000)\n",
        "emp_2 = Employee(\"Jiso\", \"Lemin\", 60000)\n",
        "\n",
        "emp_str_1 = \"John-Doe-70000\"\n",
        "emp_str_2 = \"Steve-Smith-75000\"\n",
        "emp_str_3 = \"Jane-Doe-90000\"\n",
        "\n",
        "new_emp_1 = Employee.from_string(emp_str_1)\n",
        "\n",
        "print(new_emp_1.email)\n",
        "print(new_emp_1.pay)\n"
      ],
      "metadata": {
        "colab": {
          "base_uri": "https://localhost:8080/"
        },
        "id": "hAgQd7Er19mA",
        "outputId": "0df9a804-7e19-4359-d91c-4cb258dc0db8"
      },
      "execution_count": 31,
      "outputs": [
        {
          "output_type": "stream",
          "name": "stdout",
          "text": [
            "John.Doe@mycompany.com\n",
            "70000\n"
          ]
        }
      ]
    },
    {
      "cell_type": "code",
      "source": [
        "class Employee:\n",
        "  num_of_emps = 0\n",
        "  raise_amount = 1.04\n",
        "  def __init__(self,first,last,pay):\n",
        "    self.first = first\n",
        "    self.last = last\n",
        "    self.pay = pay\n",
        "    self.email = first + \".\" + last + \"@mycompany.com\"\n",
        "    Employee.num_of_emps +=1\n",
        "\n",
        "\n",
        "  def fullname(self):\n",
        "    return \"{} {}\".format(self.first, self.last)\n",
        " \n",
        "  def apply_raise(self):\n",
        "    self.pay = int(self.pay* Employee.raise_amountraise_amount)\n",
        "  \n",
        "\n",
        "  @classmethod\n",
        "  def set_raise_amt(cls,amount):\n",
        "    cls.raise_amt = amount\n",
        "\n",
        "  @classmethod\n",
        "  def from_string(cls, emp_str):\n",
        "    first, last, pay = emp_str.split(\"-\")\n",
        "    return cls(first,last,pay)\n",
        "  @staticmethod\n",
        "  def is_workday(day):\n",
        "    if day.weekday() == 5 or day.weekday() == 6:\n",
        "      return False\n",
        "    return True\n",
        "\n",
        "\n",
        "emp_1 = Employee(\"Jose\", \"Limen\", 50000)\n",
        "emp_2 = Employee(\"Jiso\", \"Lemin\", 60000)\n",
        "\n",
        "import datetime\n",
        "my_date = datetime.date(2021,12,20)\n",
        "\n",
        "print(Employee.is_workday(my_date))\n"
      ],
      "metadata": {
        "colab": {
          "base_uri": "https://localhost:8080/"
        },
        "id": "P5iFzD0q56ua",
        "outputId": "e2e60a2b-10db-4c8b-c573-71c006c70908"
      },
      "execution_count": 38,
      "outputs": [
        {
          "output_type": "stream",
          "name": "stdout",
          "text": [
            "True\n"
          ]
        }
      ]
    }
  ]
}