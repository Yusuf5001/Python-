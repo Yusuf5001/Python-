{
  "nbformat": 4,
  "nbformat_minor": 0,
  "metadata": {
    "colab": {
      "name": "SELF STUDY 8.ipynb",
      "provenance": [],
      "collapsed_sections": [],
      "authorship_tag": "ABX9TyPkwQZJNBCdERyJRmiDOBsM",
      "include_colab_link": true
    },
    "kernelspec": {
      "name": "python3",
      "display_name": "Python 3"
    },
    "language_info": {
      "name": "python"
    }
  },
  "cells": [
    {
      "cell_type": "markdown",
      "metadata": {
        "id": "view-in-github",
        "colab_type": "text"
      },
      "source": [
        "<a href=\"https://colab.research.google.com/github/Yusuf5001/Python-/blob/main/SELF_STUDY_8.ipynb\" target=\"_parent\"><img src=\"https://colab.research.google.com/assets/colab-badge.svg\" alt=\"Open In Colab\"/></a>"
      ]
    },
    {
      "cell_type": "code",
      "metadata": {
        "colab": {
          "base_uri": "https://localhost:8080/"
        },
        "id": "q8cCQccXI70V",
        "outputId": "0ce3088c-426b-4086-c430-870574cf9739"
      },
      "source": [
        "i = 5\n",
        "while True:\n",
        "  if i%0xe == 0:\n",
        "    break\n",
        "  print(i)\n",
        "  i += 1"
      ],
      "execution_count": null,
      "outputs": [
        {
          "output_type": "stream",
          "name": "stdout",
          "text": [
            "5\n",
            "6\n",
            "7\n",
            "8\n",
            "9\n",
            "10\n",
            "11\n",
            "12\n",
            "13\n"
          ]
        }
      ]
    },
    {
      "cell_type": "code",
      "metadata": {
        "colab": {
          "base_uri": "https://localhost:8080/",
          "height": 223
        },
        "id": "s5c5rxmYJ_ZN",
        "outputId": "8a9c8b7e-e090-422a-e7e5-70dbb3e384bc"
      },
      "source": [
        "x = 'abcd'\n",
        "for i in range(len(x)):\n",
        "  i[x].upper()\n",
        "  print (x)"
      ],
      "execution_count": null,
      "outputs": [
        {
          "output_type": "error",
          "ename": "TypeError",
          "evalue": "ignored",
          "traceback": [
            "\u001b[0;31m---------------------------------------------------------------------------\u001b[0m",
            "\u001b[0;31mTypeError\u001b[0m                                 Traceback (most recent call last)",
            "\u001b[0;32m<ipython-input-4-012c4a5495ff>\u001b[0m in \u001b[0;36m<module>\u001b[0;34m()\u001b[0m\n\u001b[1;32m      1\u001b[0m \u001b[0mx\u001b[0m \u001b[0;34m=\u001b[0m \u001b[0;34m'abcd'\u001b[0m\u001b[0;34m\u001b[0m\u001b[0;34m\u001b[0m\u001b[0m\n\u001b[1;32m      2\u001b[0m \u001b[0;32mfor\u001b[0m \u001b[0mi\u001b[0m \u001b[0;32min\u001b[0m \u001b[0mrange\u001b[0m\u001b[0;34m(\u001b[0m\u001b[0mlen\u001b[0m\u001b[0;34m(\u001b[0m\u001b[0mx\u001b[0m\u001b[0;34m)\u001b[0m\u001b[0;34m)\u001b[0m\u001b[0;34m:\u001b[0m\u001b[0;34m\u001b[0m\u001b[0;34m\u001b[0m\u001b[0m\n\u001b[0;32m----> 3\u001b[0;31m   \u001b[0mi\u001b[0m\u001b[0;34m[\u001b[0m\u001b[0mx\u001b[0m\u001b[0;34m]\u001b[0m\u001b[0;34m.\u001b[0m\u001b[0mupper\u001b[0m\u001b[0;34m(\u001b[0m\u001b[0;34m)\u001b[0m\u001b[0;34m\u001b[0m\u001b[0;34m\u001b[0m\u001b[0m\n\u001b[0m\u001b[1;32m      4\u001b[0m   \u001b[0mprint\u001b[0m \u001b[0;34m(\u001b[0m\u001b[0mx\u001b[0m\u001b[0;34m)\u001b[0m\u001b[0;34m\u001b[0m\u001b[0;34m\u001b[0m\u001b[0m\n",
            "\u001b[0;31mTypeError\u001b[0m: 'int' object is not subscriptable"
          ]
        }
      ]
    },
    {
      "cell_type": "code",
      "metadata": {
        "colab": {
          "base_uri": "https://localhost:8080/"
        },
        "id": "Yv3WnsDg_VMs",
        "outputId": "7f943cb8-33c4-4d28-e11d-7b059f7f71b9"
      },
      "source": [
        "def unstretch(word):\n",
        "  c = word[0]\n",
        "  for i in range(1,len(word)):\n",
        "    if word[i] != c[-1]:\n",
        "      c +=word[i]\n",
        "  return c\n",
        "print(unstretch(\"ttiiitllleeee\"))\n",
        "print(unstretch(\"AAAAmmmmaaaazzooonn\"))"
      ],
      "execution_count": null,
      "outputs": [
        {
          "output_type": "stream",
          "name": "stdout",
          "text": [
            "title\n",
            "Amazon\n"
          ]
        }
      ]
    },
    {
      "cell_type": "code",
      "metadata": {
        "colab": {
          "base_uri": "https://localhost:8080/",
          "height": 36
        },
        "id": "Ia5f2rl0BBLm",
        "outputId": "1c3a64d1-a574-4f71-b3ec-519ffdcd92b2"
      },
      "source": [
        "def unstretch(s):\n",
        "  return s[0]+\"\".join(s[i] for i in range(1,len(s)) if s[i]!=s[i-1])\n",
        "unstretch(\"AAAnnnnkkkkaaarrrraaaaaa\")"
      ],
      "execution_count": null,
      "outputs": [
        {
          "output_type": "execute_result",
          "data": {
            "application/vnd.google.colaboratory.intrinsic+json": {
              "type": "string"
            },
            "text/plain": [
              "'Ankara'"
            ]
          },
          "metadata": {},
          "execution_count": 13
        }
      ]
    },
    {
      "cell_type": "code",
      "metadata": {
        "colab": {
          "base_uri": "https://localhost:8080/"
        },
        "id": "aVI1B-zNB9Tf",
        "outputId": "dec74cd8-1feb-4191-a298-69a70fb31cfa"
      },
      "source": [
        "def unstretch(word):\n",
        "  c = word[0]\n",
        "  for i in range(1,len(word)):\n",
        "    if word[i] != c[-1]:\n",
        "      c +=word[i]\n",
        "  return c\n",
        "print(unstretch(\"ttiiitllleeee\"))\n",
        "print(unstretch(\"AAAAmmmmaaaazzooonn\"))"
      ],
      "execution_count": null,
      "outputs": [
        {
          "output_type": "stream",
          "name": "stdout",
          "text": [
            "title\n",
            "Amazon\n"
          ]
        }
      ]
    },
    {
      "cell_type": "code",
      "metadata": {
        "colab": {
          "base_uri": "https://localhost:8080/"
        },
        "id": "qKMfDnZWCwM4",
        "outputId": "d8bd776d-b128-479d-a1da-67a8f1a8a148"
      },
      "source": [
        "list_ = [999, 333, 2, 12, 45, 66, 89, 11]\n",
        "new_list= []\n",
        "while list_:\n",
        "  min_element = list_[0]\n",
        "  for i in list_:\n",
        "    if i < min_element:\n",
        "      min_element = i\n",
        "  new_list.append(min_element)\n",
        "  list_.remove(min_element)\n",
        "\n",
        "print(new_list)\n"
      ],
      "execution_count": null,
      "outputs": [
        {
          "output_type": "stream",
          "name": "stdout",
          "text": [
            "[2, 11, 12, 45, 66, 89, 333, 999]\n"
          ]
        }
      ]
    },
    {
      "cell_type": "code",
      "metadata": {
        "colab": {
          "base_uri": "https://localhost:8080/"
        },
        "id": "mswYUvUtKVZu",
        "outputId": "643a8555-236f-40c6-bdbf-c3cd99da50f3"
      },
      "source": [
        "my_list = [999, 333, 2, 12, 45, 66, 89, 11]\n",
        "for i in range(len(my_list)):\n",
        "  for j in range(i+1,len(my_list)):\n",
        "    if my_list[i] > my_list[j]:\n",
        "      my_list[i],my_list[j] = my_list[j],my_list[i]\n",
        "print(my_list)"
      ],
      "execution_count": null,
      "outputs": [
        {
          "output_type": "stream",
          "name": "stdout",
          "text": [
            "[2, 11, 12, 45, 66, 89, 333, 999]\n"
          ]
        }
      ]
    },
    {
      "cell_type": "code",
      "metadata": {
        "id": "eyh3WFYZN0Hy"
      },
      "source": [
        "def advanced_sort(lst):\n",
        "  lst_new, set_new = [], set()\n",
        "  for i in lst:\n",
        "    \n"
      ],
      "execution_count": null,
      "outputs": []
    },
    {
      "cell_type": "code",
      "metadata": {
        "colab": {
          "base_uri": "https://localhost:8080/"
        },
        "id": "2o4pXQ7QOPIw",
        "outputId": "33424673-ea05-40fa-d215-eeb07e44c651"
      },
      "source": [
        "def advanced_sort2(lst):\n",
        "  new_list2 = []\n",
        "  for i in lst:\n",
        "    if [i]*lst.count(i) not in new_list2:\n",
        "      new_list2.append([i]*lst.count(i))\n",
        "  return new_list2\n",
        "print(advanced_sort2([1,2,4,2,2,1,4]))"
      ],
      "execution_count": null,
      "outputs": [
        {
          "output_type": "stream",
          "name": "stdout",
          "text": [
            "[[1, 1], [2, 2, 2], [4, 4]]\n"
          ]
        }
      ]
    },
    {
      "cell_type": "code",
      "metadata": {
        "colab": {
          "base_uri": "https://localhost:8080/"
        },
        "id": "IrwIXDXTfD_x",
        "outputId": "0d379b54-fdc9-4e15-ab6f-dc8e1aab858c"
      },
      "source": [
        "5//5"
      ],
      "execution_count": 1,
      "outputs": [
        {
          "output_type": "execute_result",
          "data": {
            "text/plain": [
              "1"
            ]
          },
          "metadata": {},
          "execution_count": 1
        }
      ]
    },
    {
      "cell_type": "code",
      "metadata": {
        "colab": {
          "base_uri": "https://localhost:8080/"
        },
        "id": "wWgL4eZrh3yQ",
        "outputId": "104608cd-03d9-4418-bb14-7e1c9c84d1d2"
      },
      "source": [
        "fruits = {'Apples': 5, 'Oranges': 3, 'Bananas': 4}\n",
        "for x in fruits.keys():\n",
        "  print(x)\n",
        "\n",
        "fruit_names = [x for x in fruits.keys()]\n",
        "print(fruit_names)"
      ],
      "execution_count": 11,
      "outputs": [
        {
          "output_type": "stream",
          "name": "stdout",
          "text": [
            "Apples\n",
            "Oranges\n",
            "Bananas\n",
            "['Apples', 'Oranges', 'Bananas']\n"
          ]
        }
      ]
    }
  ]
}