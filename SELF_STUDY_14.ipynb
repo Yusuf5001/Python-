{
  "nbformat": 4,
  "nbformat_minor": 0,
  "metadata": {
    "colab": {
      "name": "SELF STUDY 14.ipynb",
      "provenance": [],
      "collapsed_sections": [],
      "authorship_tag": "ABX9TyMMT8SrYhOnWhUunkVWjlIX",
      "include_colab_link": true
    },
    "kernelspec": {
      "name": "python3",
      "display_name": "Python 3"
    },
    "language_info": {
      "name": "python"
    }
  },
  "cells": [
    {
      "cell_type": "markdown",
      "metadata": {
        "id": "view-in-github",
        "colab_type": "text"
      },
      "source": [
        "<a href=\"https://colab.research.google.com/github/Yusuf5001/Python-/blob/main/SELF_STUDY_14.ipynb\" target=\"_parent\"><img src=\"https://colab.research.google.com/assets/colab-badge.svg\" alt=\"Open In Colab\"/></a>"
      ]
    },
    {
      "cell_type": "code",
      "execution_count": null,
      "metadata": {
        "colab": {
          "base_uri": "https://localhost:8080/"
        },
        "id": "bxiGitlk_Rxk",
        "outputId": "0462f305-552c-47a2-8a9a-bb332743b7cd"
      },
      "outputs": [
        {
          "output_type": "stream",
          "name": "stdout",
          "text": [
            "Banana\n",
            "Orange\n",
            "Apple\n",
            "Strawberry\n",
            "Cherry\n",
            "\n",
            "['Banana\\n', 'Orange\\n', 'Apple\\n', 'Strawberry\\n', 'Cherry\\n']\n"
          ]
        }
      ],
      "source": [
        "fruits = ['Banana', 'Orange', 'Apple', 'Strawberry', 'Cherry']\n",
        "\n",
        "with open(\"fruits.txt\", 'w', encoding=\"utf-8\") as file:\n",
        "    for basket in fruits:\n",
        "        file.write(basket + '\\t')  # adds a newline character to each string\n",
        "   \n",
        "with open(\"fruits.txt\", 'r', encoding=\"utf-8\") as file:\n",
        "    print(file.read())\n",
        "\n",
        "with open(\"fruits.txt\", 'r', encoding=\"utf-8\") as file:\n",
        "    print(file.readlines())  # reads and displays entire lines in a list"
      ]
    },
    {
      "cell_type": "code",
      "source": [
        "fruits = ['Banana\\n', 'Orange\\n', 'Apple\\n', 'Strawberry\\n', 'Cherry\\n']\n",
        "\n",
        "with open(\"fruits.txt\", 'w', encoding=\"utf-8\") as file:\n",
        "    file.writelines(fruits)  # takes an iterator for writing\n",
        "   \n",
        "with open(\"fruits.txt\", 'r', encoding=\"utf-8\") as file:\n",
        "    print(file.read())\n",
        "\n",
        "with open(\"fruits.txt\", 'r', encoding=\"utf-8\") as file:\n",
        "    print(file.readlines())"
      ],
      "metadata": {
        "colab": {
          "base_uri": "https://localhost:8080/"
        },
        "id": "DiE6MQ4Q_-ot",
        "outputId": "a502492c-324f-40cf-a2d5-b221007b6db5"
      },
      "execution_count": null,
      "outputs": [
        {
          "output_type": "stream",
          "name": "stdout",
          "text": [
            "Banana\n",
            "Orange\n",
            "Apple\n",
            "Strawberry\n",
            "Cherry\n",
            "\n",
            "['Banana\\n', 'Orange\\n', 'Apple\\n', 'Strawberry\\n', 'Cherry\\n']\n"
          ]
        }
      ]
    },
    {
      "cell_type": "code",
      "source": [
        "colors = ['red', 'green', 'yellow', 'white', 'black']\n",
        "\n",
        "with open(\"new_file.txt\", 'w', encoding=\"utf-8\") as file:\n",
        "    for line in colors:\n",
        "        file.write(line + \"\\n\")  # adds a newline character\n",
        "with open(\"new_file.txt\", 'r', encoding=\"utf-8\") as file:\n",
        "    print(file.read())\n",
        "\n",
        "\n",
        "\n"
      ],
      "metadata": {
        "colab": {
          "base_uri": "https://localhost:8080/"
        },
        "id": "4LAAVc4GAqRp",
        "outputId": "f7a1f60a-ae74-4f73-b988-5752fb0b8ff0"
      },
      "execution_count": null,
      "outputs": [
        {
          "output_type": "stream",
          "name": "stdout",
          "text": [
            "red\n",
            "green\n",
            "yellow\n",
            "white\n",
            "black\n",
            "\n"
          ]
        }
      ]
    },
    {
      "cell_type": "code",
      "source": [
        "fruits = ['Banana ', 'Orange ', 'Apple ', 'Strawberry ', 'Cherry ']\n",
        "\n",
        "with open(\"fruits.txt\", 'w', encoding=\"utf-8\") as file:\n",
        "    file.writelines(fruits)  # creates a file containing the elements of the list\n",
        "\n",
        "with open(\"fruits.txt\", 'r', encoding=\"utf-8\") as file:\n",
        "    print(file.read())  # reads the content of the file\n",
        "\n",
        "with open(\"fruits.txt\", 'a', encoding=\"utf-8\") as file:\n",
        "    file.write('Melon\\n')  # adds \"Melon\" to the end of the existing file\n",
        "   \n",
        "with open(\"fruits.txt\", 'r', encoding=\"utf-8\") as file:\n",
        "    print(file.read())  # reads the last content of the file\n",
        "\n",
        "with open(\"fruits.txt\", 'r', encoding=\"utf-8\") as file:\n",
        "    print(file.readlines())"
      ],
      "metadata": {
        "colab": {
          "base_uri": "https://localhost:8080/"
        },
        "id": "DA1hxLKdA_mx",
        "outputId": "fd157830-2cad-45c4-8c82-3ee4f86fbfec"
      },
      "execution_count": null,
      "outputs": [
        {
          "output_type": "stream",
          "name": "stdout",
          "text": [
            "Banana Orange Apple Strawberry Cherry \n",
            "Banana Orange Apple Strawberry Cherry Melon\n",
            "\n",
            "['Banana Orange Apple Strawberry Cherry Melon\\n']\n"
          ]
        }
      ]
    },
    {
      "cell_type": "code",
      "source": [
        "with open(\"new_file.txt\", 'w', encoding=\"utf-8\") as file:  \n",
        "# create and open the file\n",
        "\n",
        "    file.write('Hello Richard. This is my file.')  \n",
        "    # write str data into the file\n",
        "with open(\"new_file.txt\", 'r', encoding=\"utf-8\") as file:\n",
        "    print(file.read())\n",
        "\n",
        "\n"
      ],
      "metadata": {
        "colab": {
          "base_uri": "https://localhost:8080/"
        },
        "id": "huGxVHKOBnav",
        "outputId": "2f14b5d0-48b4-4968-dd97-2bf586562bdb"
      },
      "execution_count": null,
      "outputs": [
        {
          "output_type": "stream",
          "name": "stdout",
          "text": [
            "Hello Richard. This is my file.\n"
          ]
        }
      ]
    },
    {
      "cell_type": "code",
      "source": [
        "colors = ['red\\n', 'green\\n', 'yellow\\n', 'white\\n', 'black\\n']\n",
        "\n",
        "with open(\"new_file.txt\", 'w', encoding=\"utf-8\") as file:\n",
        "    file.writelines(colors)  # writes each of the elements in a separate line\n",
        "\n",
        "with open(\"new_file.txt\", 'r', encoding=\"utf-8\") as file:\n",
        "    print(file.read())\n",
        "\n",
        "\n"
      ],
      "metadata": {
        "colab": {
          "base_uri": "https://localhost:8080/"
        },
        "id": "QO-60i6QCJCJ",
        "outputId": "7ce54d36-61a3-4556-c174-20d54bc75e5e"
      },
      "execution_count": null,
      "outputs": [
        {
          "output_type": "stream",
          "name": "stdout",
          "text": [
            "red\n",
            "green\n",
            "yellow\n",
            "white\n",
            "black\n",
            "\n"
          ]
        }
      ]
    },
    {
      "cell_type": "code",
      "source": [
        "def front_back(word):\n",
        "  word = word.replace(word[0],word[-1])\n",
        "  word = word.replace(word[-1],word[0])\n",
        "  return word\n",
        "print(front_back('clarusway')) #ylaruswac\n",
        "print(front_back('a'))  #a\n",
        "print(front_back('ab')) #ba"
      ],
      "metadata": {
        "colab": {
          "base_uri": "https://localhost:8080/"
        },
        "id": "7Ch16qsQ9kzz",
        "outputId": "434d1a4c-5629-4700-d5b6-88fd48902c20"
      },
      "execution_count": null,
      "outputs": [
        {
          "output_type": "stream",
          "name": "stdout",
          "text": [
            "ylarusway\n",
            "a\n",
            "bb\n"
          ]
        }
      ]
    },
    {
      "cell_type": "code",
      "source": [
        "def my_min(*mini):\n",
        "  return min(mini)\n",
        "print(my_min(5,6,7))\n",
        "print(my_min(3,8,-9,0,12,1.2))\n",
        "print(my_min(-100))"
      ],
      "metadata": {
        "colab": {
          "base_uri": "https://localhost:8080/"
        },
        "id": "OjZuez06Cw-b",
        "outputId": "741bc268-90b8-426d-ad29-f562bb2642dd"
      },
      "execution_count": null,
      "outputs": [
        {
          "output_type": "stream",
          "name": "stdout",
          "text": [
            "5\n",
            "-9\n",
            "-100\n"
          ]
        }
      ]
    },
    {
      "cell_type": "code",
      "source": [
        "try:\n",
        "    x = 2/0\n",
        "\n",
        "except ZeroDivisionError:\n",
        "    print('Attempt to divide by zero')\n",
        "except:\n",
        "    print('Something else went wrong')"
      ],
      "metadata": {
        "colab": {
          "base_uri": "https://localhost:8080/"
        },
        "id": "s9LdE-2FHCFY",
        "outputId": "fb163fc6-1d23-4b38-9323-52458aa537d9"
      },
      "execution_count": null,
      "outputs": [
        {
          "output_type": "stream",
          "name": "stdout",
          "text": [
            "Attempt to divide by zero\n"
          ]
        }
      ]
    },
    {
      "cell_type": "code",
      "source": [
        "fruits = [\"banana\", \"mango\", \"pear\", \"apple\", \"kiwi\", \"grape\"]\n",
        "while True:\n",
        "  \n",
        "  try:\n",
        "    a = int(input(\"Enter an index number. \"))\n",
        "    print(f\"My favorite fruit is {fruits[a]}.\")\n",
        "    break\n",
        "  except IndexError:\n",
        "    print(\"You entered incorrect index.Pls try again.\")\n",
        "  except ValueError:\n",
        "    print(\"You entered incorrect value type.\")\n"
      ],
      "metadata": {
        "colab": {
          "base_uri": "https://localhost:8080/"
        },
        "id": "l4WSmJrIOtc6",
        "outputId": "49428a66-4107-4e01-ad1d-ddbb708e918b"
      },
      "execution_count": null,
      "outputs": [
        {
          "output_type": "stream",
          "name": "stdout",
          "text": [
            "Enter an index number. qwe\n",
            "You entered incorrect value type.\n",
            "Enter an index number. 2\n",
            "My favorite fruit is pear.\n"
          ]
        }
      ]
    },
    {
      "cell_type": "code",
      "source": [
        "fruits = [\"banana\", \"mango\", \"pear\", \"apple\", \"kiwi\", \"grape\"]\n",
        "counter = 3\n",
        "\n",
        "while counter>0:\n",
        "  try:\n",
        "    a = int(input(\"Enter an index number.\"))\n",
        "    print(f\"My favorite fruit is {fruits[a]}.\")\n",
        "  except IndexError :\n",
        "    print(f\"You entered incorrect index.You have {counter} attempt left.Pls try again.\")\n",
        "    counter -=1\n",
        "  except ValueError :\n",
        "    print(f\"You entered incorrect value.You have {counter} attempt left.Pls try again.\")\n",
        "    counter -=1\n",
        "  else:\n",
        "    print(\"Congrats you entered a valid index.\")\n",
        "    break\n",
        "  finally:\n",
        "    print(\"Our fruits are always fresh and halal.\")\n",
        "  \n"
      ],
      "metadata": {
        "colab": {
          "base_uri": "https://localhost:8080/"
        },
        "id": "XvP51BCFR18r",
        "outputId": "1a7a4496-e2fe-4292-e5ee-bb53a6a14cde"
      },
      "execution_count": null,
      "outputs": [
        {
          "output_type": "stream",
          "name": "stdout",
          "text": [
            "Enter an index number.12\n",
            "You entered incorrect index.You have 3 attempt left.Pls try again.\n",
            "Our fruits are always fresh and halal.\n",
            "Enter an index number.ww\n",
            "You entered incorrect value.You have 2 attempt left.Pls try again.\n",
            "Our fruits are always fresh and halal.\n",
            "Enter an index number.1\n",
            "My favorite fruit is mango.\n",
            "Congrats you entered a valid index.\n",
            "Our fruits are always fresh and halal.\n"
          ]
        }
      ]
    },
    {
      "cell_type": "code",
      "source": [
        ""
      ],
      "metadata": {
        "id": "IuWtNP5-ZOl9"
      },
      "execution_count": null,
      "outputs": []
    },
    {
      "cell_type": "code",
      "source": [
        "txt = input(\"Enter your sentence to count the characters: \")\n",
        "txt1 = txt.casefold()\n",
        "char_count = {}\n",
        "for i in txt1:\n",
        "  if i not in char_count.keys():\n",
        "    char_count.update({i: txt1.count(i)})\n",
        "print(char_count, end=\"\")"
      ],
      "metadata": {
        "colab": {
          "base_uri": "https://localhost:8080/"
        },
        "id": "KE_oPw_tbCGG",
        "outputId": "1469c47d-e913-4158-ce52-a3d20984be16"
      },
      "execution_count": null,
      "outputs": [
        {
          "output_type": "stream",
          "name": "stdout",
          "text": [
            "Enter your sentence to count the characters: mine!\n",
            "{'m': 1, 'i': 1, 'n': 1, 'e': 1, '!': 1}"
          ]
        }
      ]
    },
    {
      "cell_type": "code",
      "source": [
        "text = input(\"Enter a text: \")\n",
        "d = {}\n",
        "for i in set(text):\n",
        "  d[i] = text.count(i)\n",
        "print(d)"
      ],
      "metadata": {
        "colab": {
          "base_uri": "https://localhost:8080/"
        },
        "id": "wpltJOtsbk9D",
        "outputId": "eaa881c9-0fd4-49da-90b7-f5255e524f2c"
      },
      "execution_count": null,
      "outputs": [
        {
          "output_type": "stream",
          "name": "stdout",
          "text": [
            "Enter a text: minnw!\n",
            "{'i': 1, 'w': 1, '!': 1, 'm': 1, 'n': 2}\n"
          ]
        }
      ]
    },
    {
      "cell_type": "code",
      "source": [
        "sen = input(\"Write a sentence:\")\n",
        "dic = {}\n",
        "for i in sen:\n",
        "  if i in dic:\n",
        "    dic[i] = dic[i] + 1\n",
        "  else:\n",
        "    dic[i] = 1\n",
        "print(dic)"
      ],
      "metadata": {
        "colab": {
          "base_uri": "https://localhost:8080/"
        },
        "id": "9PtCnFtqcHdC",
        "outputId": "38678aec-ca0f-4873-f4e8-9b5e1ef9f461"
      },
      "execution_count": null,
      "outputs": [
        {
          "output_type": "stream",
          "name": "stdout",
          "text": [
            "Write a sentence:mine!\n",
            "{'m': 1, 'i': 1, 'n': 1, 'e': 1, '!': 1}\n"
          ]
        }
      ]
    },
    {
      "cell_type": "code",
      "source": [
        "string = input(\"Pls enter a sentence: \")\n",
        "word_dict = {}\n",
        "for n in string:\n",
        "  if n in word_dict:\n",
        "    word_dict[n] += 1\n",
        "  else:\n",
        "    word_dict[n]=1\n",
        "print(word_dict)"
      ],
      "metadata": {
        "colab": {
          "base_uri": "https://localhost:8080/"
        },
        "id": "iLiOmnY2cxhV",
        "outputId": "2e05849c-f8d2-4a79-d3bc-837ad6f8274f"
      },
      "execution_count": null,
      "outputs": [
        {
          "output_type": "stream",
          "name": "stdout",
          "text": [
            "Pls enter a sentence: 12easdsad'!\n",
            "{'1': 1, '2': 1, 'e': 1, 'a': 2, 's': 2, 'd': 2, \"'\": 1, '!': 1}\n"
          ]
        }
      ]
    },
    {
      "cell_type": "code",
      "source": [
        "veri = [\"a\", \"b\", True, (False, 1), {\"1\" : 2}, [1,2], {\"2\" : \"two\"}, {2, \"3\"}, \"c\", 23, 0]\n",
        "tipler = [\"int\", \"str\", \"bool\", \"list\", \"tuple\", \"dict\", \"set\"]\n",
        "toplam ={}.fromkeys(tipler,0)\n",
        "for i in range(len(veri)) :\n",
        "    \n",
        "    if type(veri[i]) == int : toplam[\"int\"] += 1\n",
        "    elif type(veri[i]) == str : toplam[\"str\"] += 1\n",
        "    elif type(veri[i]) == bool : toplam[\"bool\"] += 1\n",
        "    elif type(veri[i]) == list : toplam[\"list\"] += 1\n",
        "    elif type(veri[i]) == tuple : toplam[\"tuple\"] += 1\n",
        "    elif type(veri[i]) == dict : toplam[\"dict\"] += 1\n",
        "    elif type(veri[i]) == set : toplam[\"set\"] += 1\n",
        "        \n",
        "toplam"
      ],
      "metadata": {
        "colab": {
          "base_uri": "https://localhost:8080/"
        },
        "id": "e6vIerPSeLiP",
        "outputId": "c3dd568e-d4dc-4d5a-f161-d6347f87194f"
      },
      "execution_count": null,
      "outputs": [
        {
          "output_type": "execute_result",
          "data": {
            "text/plain": [
              "{'bool': 1, 'dict': 2, 'int': 2, 'list': 1, 'set': 1, 'str': 3, 'tuple': 1}"
            ]
          },
          "metadata": {},
          "execution_count": 86
        }
      ]
    }
  ]
}